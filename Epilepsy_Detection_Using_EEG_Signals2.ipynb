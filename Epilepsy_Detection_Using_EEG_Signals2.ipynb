{
  "nbformat": 4,
  "nbformat_minor": 0,
  "metadata": {
    "colab": {
      "provenance": [],
      "authorship_tag": "ABX9TyNtOaqiZ196TdldqbNGR/Ok",
      "include_colab_link": true
    },
    "kernelspec": {
      "name": "python3",
      "display_name": "Python 3"
    },
    "language_info": {
      "name": "python"
    }
  },
  "cells": [
    {
      "cell_type": "markdown",
      "metadata": {
        "id": "view-in-github",
        "colab_type": "text"
      },
      "source": [
        "<a href=\"https://colab.research.google.com/github/mohmaed7777/epilepsy-detection/blob/main/Epilepsy_Detection_Using_EEG_Signals2.ipynb\" target=\"_parent\"><img src=\"https://colab.research.google.com/assets/colab-badge.svg\" alt=\"Open In Colab\"/></a>"
      ]
    },
    {
      "cell_type": "code",
      "execution_count": 1,
      "metadata": {
        "colab": {
          "base_uri": "https://localhost:8080/"
        },
        "id": "nNgt0MVINd18",
        "outputId": "3cc43413-c183-49ba-c219-d7fbc97ef76d"
      },
      "outputs": [
        {
          "output_type": "stream",
          "name": "stdout",
          "text": [
            "Looking in indexes: https://pypi.org/simple, https://us-python.pkg.dev/colab-wheels/public/simple/\n",
            "Requirement already satisfied: kaggle in /usr/local/lib/python3.9/dist-packages (1.5.13)\n",
            "Requirement already satisfied: six>=1.10 in /usr/local/lib/python3.9/dist-packages (from kaggle) (1.16.0)\n",
            "Requirement already satisfied: python-slugify in /usr/local/lib/python3.9/dist-packages (from kaggle) (8.0.1)\n",
            "Requirement already satisfied: python-dateutil in /usr/local/lib/python3.9/dist-packages (from kaggle) (2.8.2)\n",
            "Requirement already satisfied: requests in /usr/local/lib/python3.9/dist-packages (from kaggle) (2.27.1)\n",
            "Requirement already satisfied: urllib3 in /usr/local/lib/python3.9/dist-packages (from kaggle) (1.26.15)\n",
            "Requirement already satisfied: certifi in /usr/local/lib/python3.9/dist-packages (from kaggle) (2022.12.7)\n",
            "Requirement already satisfied: tqdm in /usr/local/lib/python3.9/dist-packages (from kaggle) (4.65.0)\n",
            "Requirement already satisfied: text-unidecode>=1.3 in /usr/local/lib/python3.9/dist-packages (from python-slugify->kaggle) (1.3)\n",
            "Requirement already satisfied: charset-normalizer~=2.0.0 in /usr/local/lib/python3.9/dist-packages (from requests->kaggle) (2.0.12)\n",
            "Requirement already satisfied: idna<4,>=2.5 in /usr/local/lib/python3.9/dist-packages (from requests->kaggle) (3.4)\n"
          ]
        }
      ],
      "source": [
        "!pip install kaggle"
      ]
    },
    {
      "cell_type": "code",
      "source": [
        "# 2. Make a directory named “.kaggle”\n",
        "! mkdir ~/.kaggle"
      ],
      "metadata": {
        "id": "ZPYqNsSyNuDK"
      },
      "execution_count": 2,
      "outputs": []
    },
    {
      "cell_type": "code",
      "source": [
        "#3. Copy the “kaggle.json” into this new directory\n",
        "! cp kaggle.json ~/.kaggle/"
      ],
      "metadata": {
        "id": "3PxxCqQbN4Pt"
      },
      "execution_count": 3,
      "outputs": []
    },
    {
      "cell_type": "code",
      "source": [
        "! chmod 600 ~/.kaggle/kaggle.json"
      ],
      "metadata": {
        "id": "Bs7EW47nN7qR"
      },
      "execution_count": 4,
      "outputs": []
    },
    {
      "cell_type": "code",
      "source": [
        "# download the datasets fro the resourse\n",
        "! kaggle datasets download oussamabenhassine/epilepsy-detection-using-eeg-signals\n"
      ],
      "metadata": {
        "colab": {
          "base_uri": "https://localhost:8080/"
        },
        "id": "thXTbEH1N9wp",
        "outputId": "dcc06914-f5dd-48ca-8715-abe4fd5d009b"
      },
      "execution_count": 5,
      "outputs": [
        {
          "output_type": "stream",
          "name": "stdout",
          "text": [
            "Downloading epilepsy-detection-using-eeg-signals.zip to /content\n",
            " 81% 10.0M/12.3M [00:00<00:00, 16.1MB/s]\n",
            "100% 12.3M/12.3M [00:00<00:00, 13.9MB/s]\n"
          ]
        }
      ]
    },
    {
      "cell_type": "code",
      "source": [
        "! unzip epilepsy-detection-using-eeg-signals.zip"
      ],
      "metadata": {
        "colab": {
          "base_uri": "https://localhost:8080/"
        },
        "id": "nBfd5o84OIhQ",
        "outputId": "6a0ed562-3380-4ff3-8728-29368d1dabab"
      },
      "execution_count": 6,
      "outputs": [
        {
          "output_type": "stream",
          "name": "stdout",
          "text": [
            "Archive:  epilepsy-detection-using-eeg-signals.zip\n",
            "  inflating: eeg_data.csv            \n"
          ]
        }
      ]
    },
    {
      "cell_type": "code",
      "source": [
        "import pandas as pd\n",
        "import numpy as np\n",
        "import matplotlib.pyplot as plt \n",
        "import seaborn as sns\n",
        "%matplotlib inline \n",
        "print('Ready to go!')"
      ],
      "metadata": {
        "colab": {
          "base_uri": "https://localhost:8080/"
        },
        "id": "IxMctdxpOIev",
        "outputId": "f1fd9760-d085-4401-999c-029c8f264d6d"
      },
      "execution_count": 7,
      "outputs": [
        {
          "output_type": "stream",
          "name": "stdout",
          "text": [
            "Ready to go!\n"
          ]
        }
      ]
    },
    {
      "cell_type": "code",
      "source": [
        "data = pd.read_csv('/content/eeg_data.csv')\n",
        "data.head()"
      ],
      "metadata": {
        "colab": {
          "base_uri": "https://localhost:8080/",
          "height": 299
        },
        "id": "ksyG1RnlOIcV",
        "outputId": "7a500cd2-6b30-455e-a1bd-2b5246bce208"
      },
      "execution_count": 8,
      "outputs": [
        {
          "output_type": "execute_result",
          "data": {
            "text/plain": [
              "   FP1_power_delta  FP1_power_theta  FP1_power_alpha  FP1_power_beta  \\\n",
              "0        15.980332         8.633358         3.092433        0.846559   \n",
              "1       223.267803        41.573241        13.043525        6.463381   \n",
              "2       158.673907        31.788608         9.956198        3.736977   \n",
              "3        29.767326         3.875543         1.553127        0.438266   \n",
              "4        33.821075         3.635210         1.347280        0.313205   \n",
              "\n",
              "   FP1_power_gamma  FP2_power_delta  FP2_power_theta  FP2_power_alpha  \\\n",
              "0         0.372832        17.581626         9.937238         3.485713   \n",
              "1         6.168712       298.274432        50.013025        14.411482   \n",
              "2         2.926979       232.762741        39.332981        10.956081   \n",
              "3         0.140495        45.206547         5.173542         2.028637   \n",
              "4         0.080396        55.670043         4.925017         1.783729   \n",
              "\n",
              "   FP2_power_beta  FP2_power_gamma  ...  T5_STD_D4  T5_STD_D5  T5_STD_D6  \\\n",
              "0        0.945396         0.428797  ...  31.427918  29.699413  32.013546   \n",
              "1        6.659230         4.942250  ...  24.822720  47.185918  93.619195   \n",
              "2        3.478036         2.153082  ...  21.708222  47.412375  85.729645   \n",
              "3        0.528962         0.161283  ...  26.319506  39.628894  51.473202   \n",
              "4        0.394463         0.102254  ...  26.111048  39.177537  52.925676   \n",
              "\n",
              "   T6_STD_D1  T6_STD_D2  T6_STD_D3  T6_STD_D4   T6_STD_D5   T6_STD_D6  \\\n",
              "0   3.583559  12.529528  45.831132  61.890813   34.783454   33.245906   \n",
              "1  14.158489  15.217886  30.927407  77.324322  153.442359  213.780950   \n",
              "2   9.493639  11.824569  24.555772  59.229187  112.406306  171.618208   \n",
              "3   1.872515   5.392639  17.296780  35.824586   44.892899   79.613460   \n",
              "4   1.408291   4.556997  12.733549  25.676801   44.406617   94.770581   \n",
              "\n",
              "   epileptic_  \n",
              "0           1  \n",
              "1           1  \n",
              "2           1  \n",
              "3           1  \n",
              "4           1  \n",
              "\n",
              "[5 rows x 668 columns]"
            ],
            "text/html": [
              "\n",
              "  <div id=\"df-64fc770a-533f-4fd9-973a-321e1e3c6507\">\n",
              "    <div class=\"colab-df-container\">\n",
              "      <div>\n",
              "<style scoped>\n",
              "    .dataframe tbody tr th:only-of-type {\n",
              "        vertical-align: middle;\n",
              "    }\n",
              "\n",
              "    .dataframe tbody tr th {\n",
              "        vertical-align: top;\n",
              "    }\n",
              "\n",
              "    .dataframe thead th {\n",
              "        text-align: right;\n",
              "    }\n",
              "</style>\n",
              "<table border=\"1\" class=\"dataframe\">\n",
              "  <thead>\n",
              "    <tr style=\"text-align: right;\">\n",
              "      <th></th>\n",
              "      <th>FP1_power_delta</th>\n",
              "      <th>FP1_power_theta</th>\n",
              "      <th>FP1_power_alpha</th>\n",
              "      <th>FP1_power_beta</th>\n",
              "      <th>FP1_power_gamma</th>\n",
              "      <th>FP2_power_delta</th>\n",
              "      <th>FP2_power_theta</th>\n",
              "      <th>FP2_power_alpha</th>\n",
              "      <th>FP2_power_beta</th>\n",
              "      <th>FP2_power_gamma</th>\n",
              "      <th>...</th>\n",
              "      <th>T5_STD_D4</th>\n",
              "      <th>T5_STD_D5</th>\n",
              "      <th>T5_STD_D6</th>\n",
              "      <th>T6_STD_D1</th>\n",
              "      <th>T6_STD_D2</th>\n",
              "      <th>T6_STD_D3</th>\n",
              "      <th>T6_STD_D4</th>\n",
              "      <th>T6_STD_D5</th>\n",
              "      <th>T6_STD_D6</th>\n",
              "      <th>epileptic_</th>\n",
              "    </tr>\n",
              "  </thead>\n",
              "  <tbody>\n",
              "    <tr>\n",
              "      <th>0</th>\n",
              "      <td>15.980332</td>\n",
              "      <td>8.633358</td>\n",
              "      <td>3.092433</td>\n",
              "      <td>0.846559</td>\n",
              "      <td>0.372832</td>\n",
              "      <td>17.581626</td>\n",
              "      <td>9.937238</td>\n",
              "      <td>3.485713</td>\n",
              "      <td>0.945396</td>\n",
              "      <td>0.428797</td>\n",
              "      <td>...</td>\n",
              "      <td>31.427918</td>\n",
              "      <td>29.699413</td>\n",
              "      <td>32.013546</td>\n",
              "      <td>3.583559</td>\n",
              "      <td>12.529528</td>\n",
              "      <td>45.831132</td>\n",
              "      <td>61.890813</td>\n",
              "      <td>34.783454</td>\n",
              "      <td>33.245906</td>\n",
              "      <td>1</td>\n",
              "    </tr>\n",
              "    <tr>\n",
              "      <th>1</th>\n",
              "      <td>223.267803</td>\n",
              "      <td>41.573241</td>\n",
              "      <td>13.043525</td>\n",
              "      <td>6.463381</td>\n",
              "      <td>6.168712</td>\n",
              "      <td>298.274432</td>\n",
              "      <td>50.013025</td>\n",
              "      <td>14.411482</td>\n",
              "      <td>6.659230</td>\n",
              "      <td>4.942250</td>\n",
              "      <td>...</td>\n",
              "      <td>24.822720</td>\n",
              "      <td>47.185918</td>\n",
              "      <td>93.619195</td>\n",
              "      <td>14.158489</td>\n",
              "      <td>15.217886</td>\n",
              "      <td>30.927407</td>\n",
              "      <td>77.324322</td>\n",
              "      <td>153.442359</td>\n",
              "      <td>213.780950</td>\n",
              "      <td>1</td>\n",
              "    </tr>\n",
              "    <tr>\n",
              "      <th>2</th>\n",
              "      <td>158.673907</td>\n",
              "      <td>31.788608</td>\n",
              "      <td>9.956198</td>\n",
              "      <td>3.736977</td>\n",
              "      <td>2.926979</td>\n",
              "      <td>232.762741</td>\n",
              "      <td>39.332981</td>\n",
              "      <td>10.956081</td>\n",
              "      <td>3.478036</td>\n",
              "      <td>2.153082</td>\n",
              "      <td>...</td>\n",
              "      <td>21.708222</td>\n",
              "      <td>47.412375</td>\n",
              "      <td>85.729645</td>\n",
              "      <td>9.493639</td>\n",
              "      <td>11.824569</td>\n",
              "      <td>24.555772</td>\n",
              "      <td>59.229187</td>\n",
              "      <td>112.406306</td>\n",
              "      <td>171.618208</td>\n",
              "      <td>1</td>\n",
              "    </tr>\n",
              "    <tr>\n",
              "      <th>3</th>\n",
              "      <td>29.767326</td>\n",
              "      <td>3.875543</td>\n",
              "      <td>1.553127</td>\n",
              "      <td>0.438266</td>\n",
              "      <td>0.140495</td>\n",
              "      <td>45.206547</td>\n",
              "      <td>5.173542</td>\n",
              "      <td>2.028637</td>\n",
              "      <td>0.528962</td>\n",
              "      <td>0.161283</td>\n",
              "      <td>...</td>\n",
              "      <td>26.319506</td>\n",
              "      <td>39.628894</td>\n",
              "      <td>51.473202</td>\n",
              "      <td>1.872515</td>\n",
              "      <td>5.392639</td>\n",
              "      <td>17.296780</td>\n",
              "      <td>35.824586</td>\n",
              "      <td>44.892899</td>\n",
              "      <td>79.613460</td>\n",
              "      <td>1</td>\n",
              "    </tr>\n",
              "    <tr>\n",
              "      <th>4</th>\n",
              "      <td>33.821075</td>\n",
              "      <td>3.635210</td>\n",
              "      <td>1.347280</td>\n",
              "      <td>0.313205</td>\n",
              "      <td>0.080396</td>\n",
              "      <td>55.670043</td>\n",
              "      <td>4.925017</td>\n",
              "      <td>1.783729</td>\n",
              "      <td>0.394463</td>\n",
              "      <td>0.102254</td>\n",
              "      <td>...</td>\n",
              "      <td>26.111048</td>\n",
              "      <td>39.177537</td>\n",
              "      <td>52.925676</td>\n",
              "      <td>1.408291</td>\n",
              "      <td>4.556997</td>\n",
              "      <td>12.733549</td>\n",
              "      <td>25.676801</td>\n",
              "      <td>44.406617</td>\n",
              "      <td>94.770581</td>\n",
              "      <td>1</td>\n",
              "    </tr>\n",
              "  </tbody>\n",
              "</table>\n",
              "<p>5 rows × 668 columns</p>\n",
              "</div>\n",
              "      <button class=\"colab-df-convert\" onclick=\"convertToInteractive('df-64fc770a-533f-4fd9-973a-321e1e3c6507')\"\n",
              "              title=\"Convert this dataframe to an interactive table.\"\n",
              "              style=\"display:none;\">\n",
              "        \n",
              "  <svg xmlns=\"http://www.w3.org/2000/svg\" height=\"24px\"viewBox=\"0 0 24 24\"\n",
              "       width=\"24px\">\n",
              "    <path d=\"M0 0h24v24H0V0z\" fill=\"none\"/>\n",
              "    <path d=\"M18.56 5.44l.94 2.06.94-2.06 2.06-.94-2.06-.94-.94-2.06-.94 2.06-2.06.94zm-11 1L8.5 8.5l.94-2.06 2.06-.94-2.06-.94L8.5 2.5l-.94 2.06-2.06.94zm10 10l.94 2.06.94-2.06 2.06-.94-2.06-.94-.94-2.06-.94 2.06-2.06.94z\"/><path d=\"M17.41 7.96l-1.37-1.37c-.4-.4-.92-.59-1.43-.59-.52 0-1.04.2-1.43.59L10.3 9.45l-7.72 7.72c-.78.78-.78 2.05 0 2.83L4 21.41c.39.39.9.59 1.41.59.51 0 1.02-.2 1.41-.59l7.78-7.78 2.81-2.81c.8-.78.8-2.07 0-2.86zM5.41 20L4 18.59l7.72-7.72 1.47 1.35L5.41 20z\"/>\n",
              "  </svg>\n",
              "      </button>\n",
              "      \n",
              "  <style>\n",
              "    .colab-df-container {\n",
              "      display:flex;\n",
              "      flex-wrap:wrap;\n",
              "      gap: 12px;\n",
              "    }\n",
              "\n",
              "    .colab-df-convert {\n",
              "      background-color: #E8F0FE;\n",
              "      border: none;\n",
              "      border-radius: 50%;\n",
              "      cursor: pointer;\n",
              "      display: none;\n",
              "      fill: #1967D2;\n",
              "      height: 32px;\n",
              "      padding: 0 0 0 0;\n",
              "      width: 32px;\n",
              "    }\n",
              "\n",
              "    .colab-df-convert:hover {\n",
              "      background-color: #E2EBFA;\n",
              "      box-shadow: 0px 1px 2px rgba(60, 64, 67, 0.3), 0px 1px 3px 1px rgba(60, 64, 67, 0.15);\n",
              "      fill: #174EA6;\n",
              "    }\n",
              "\n",
              "    [theme=dark] .colab-df-convert {\n",
              "      background-color: #3B4455;\n",
              "      fill: #D2E3FC;\n",
              "    }\n",
              "\n",
              "    [theme=dark] .colab-df-convert:hover {\n",
              "      background-color: #434B5C;\n",
              "      box-shadow: 0px 1px 3px 1px rgba(0, 0, 0, 0.15);\n",
              "      filter: drop-shadow(0px 1px 2px rgba(0, 0, 0, 0.3));\n",
              "      fill: #FFFFFF;\n",
              "    }\n",
              "  </style>\n",
              "\n",
              "      <script>\n",
              "        const buttonEl =\n",
              "          document.querySelector('#df-64fc770a-533f-4fd9-973a-321e1e3c6507 button.colab-df-convert');\n",
              "        buttonEl.style.display =\n",
              "          google.colab.kernel.accessAllowed ? 'block' : 'none';\n",
              "\n",
              "        async function convertToInteractive(key) {\n",
              "          const element = document.querySelector('#df-64fc770a-533f-4fd9-973a-321e1e3c6507');\n",
              "          const dataTable =\n",
              "            await google.colab.kernel.invokeFunction('convertToInteractive',\n",
              "                                                     [key], {});\n",
              "          if (!dataTable) return;\n",
              "\n",
              "          const docLinkHtml = 'Like what you see? Visit the ' +\n",
              "            '<a target=\"_blank\" href=https://colab.research.google.com/notebooks/data_table.ipynb>data table notebook</a>'\n",
              "            + ' to learn more about interactive tables.';\n",
              "          element.innerHTML = '';\n",
              "          dataTable['output_type'] = 'display_data';\n",
              "          await google.colab.output.renderOutput(dataTable, element);\n",
              "          const docLink = document.createElement('div');\n",
              "          docLink.innerHTML = docLinkHtml;\n",
              "          element.appendChild(docLink);\n",
              "        }\n",
              "      </script>\n",
              "    </div>\n",
              "  </div>\n",
              "  "
            ]
          },
          "metadata": {},
          "execution_count": 8
        }
      ]
    },
    {
      "cell_type": "code",
      "source": [
        "data.dtypes"
      ],
      "metadata": {
        "id": "IfD9H5QxOIaB",
        "colab": {
          "base_uri": "https://localhost:8080/"
        },
        "outputId": "d3f6cd4e-4242-4cf9-d51a-c4281ee7e4bf"
      },
      "execution_count": 9,
      "outputs": [
        {
          "output_type": "execute_result",
          "data": {
            "text/plain": [
              "FP1_power_delta    float64\n",
              "FP1_power_theta    float64\n",
              "FP1_power_alpha    float64\n",
              "FP1_power_beta     float64\n",
              "FP1_power_gamma    float64\n",
              "                    ...   \n",
              "T6_STD_D3          float64\n",
              "T6_STD_D4          float64\n",
              "T6_STD_D5          float64\n",
              "T6_STD_D6          float64\n",
              "epileptic_           int64\n",
              "Length: 668, dtype: object"
            ]
          },
          "metadata": {},
          "execution_count": 9
        }
      ]
    },
    {
      "cell_type": "code",
      "source": [
        "data.isnull().sum()"
      ],
      "metadata": {
        "id": "26icWCQMOblU",
        "colab": {
          "base_uri": "https://localhost:8080/"
        },
        "outputId": "2339e8f8-959b-4bf4-fa46-d19602014281"
      },
      "execution_count": 10,
      "outputs": [
        {
          "output_type": "execute_result",
          "data": {
            "text/plain": [
              "FP1_power_delta    0\n",
              "FP1_power_theta    0\n",
              "FP1_power_alpha    0\n",
              "FP1_power_beta     0\n",
              "FP1_power_gamma    0\n",
              "                  ..\n",
              "T6_STD_D3          0\n",
              "T6_STD_D4          0\n",
              "T6_STD_D5          0\n",
              "T6_STD_D6          0\n",
              "epileptic_         0\n",
              "Length: 668, dtype: int64"
            ]
          },
          "metadata": {},
          "execution_count": 10
        }
      ]
    },
    {
      "cell_type": "code",
      "source": [
        "data.describe()"
      ],
      "metadata": {
        "colab": {
          "base_uri": "https://localhost:8080/",
          "height": 393
        },
        "id": "U4Wnucy0PgFF",
        "outputId": "8dc24fee-64a6-44ed-acdc-af1e45cc7d1e"
      },
      "execution_count": 11,
      "outputs": [
        {
          "output_type": "execute_result",
          "data": {
            "text/plain": [
              "       FP1_power_delta  FP1_power_theta  FP1_power_alpha  FP1_power_beta  \\\n",
              "count      2216.000000      2216.000000      2216.000000     2216.000000   \n",
              "mean       2784.618464       988.760235       746.234771      701.487094   \n",
              "std       27119.740834     12199.666703     12018.648373    10668.946271   \n",
              "min           0.025945         0.012101         0.009409        0.007828   \n",
              "25%          25.524041         3.983245         1.868825        0.789355   \n",
              "50%          68.865751         8.807711         3.874506        1.795211   \n",
              "75%         271.174926        30.093458        12.052042        6.926863   \n",
              "max      859895.816209    350651.120898    403916.724142   291058.726462   \n",
              "\n",
              "       FP1_power_gamma  FP2_power_delta  FP2_power_theta  FP2_power_alpha  \\\n",
              "count      2216.000000      2216.000000      2216.000000      2216.000000   \n",
              "mean       1001.431795      2085.578266       992.570476       895.149975   \n",
              "std       14544.502538     20670.847816     12618.098105     14047.391047   \n",
              "min           0.008412         0.026174         0.018836         0.010871   \n",
              "25%           0.381195        27.138890         4.254592         1.989122   \n",
              "50%           0.972968        73.483311         9.688978         4.133793   \n",
              "75%           3.777847       288.354575        29.503963        12.237335   \n",
              "max      285573.572449    604373.606743    346870.948081    407756.698134   \n",
              "\n",
              "       FP2_power_beta  FP2_power_gamma  ...    T5_STD_D4    T5_STD_D5  \\\n",
              "count     2216.000000      2216.000000  ...  2216.000000  2216.000000   \n",
              "mean       668.364261      1031.370227  ...    58.296417    88.001721   \n",
              "std      10791.187751     14990.469348  ...   203.322445   304.407625   \n",
              "min          0.006120         0.006863  ...     0.950777     1.057651   \n",
              "25%          0.845677         0.408081  ...    12.298674    14.891381   \n",
              "50%          1.863871         0.973485  ...    18.643405    23.730646   \n",
              "75%          7.139232         3.782326  ...    32.798456    51.946562   \n",
              "max     291640.733124    287933.513127  ...  3283.112473  5501.471732   \n",
              "\n",
              "          T5_STD_D6    T6_STD_D1    T6_STD_D2    T6_STD_D3    T6_STD_D4  \\\n",
              "count   2216.000000  2216.000000  2216.000000  2216.000000  2216.000000   \n",
              "mean     143.249343    34.949327    29.083232    46.686025    61.305950   \n",
              "std      468.151048   315.861267   171.065282   217.826912   207.851277   \n",
              "min        1.118569     0.525890     0.846936     0.878841     0.909989   \n",
              "25%       23.835592     3.525874     5.796019    11.084702    14.190864   \n",
              "50%       39.095777     5.855205     8.580373    15.806232    20.932141   \n",
              "75%       84.372372    11.453332    14.326938    27.297323    36.869445   \n",
              "max    11030.429643  5777.660876  3620.162008  4585.801410  3620.523797   \n",
              "\n",
              "         T6_STD_D5     T6_STD_D6   epileptic_  \n",
              "count  2216.000000   2216.000000  2216.000000  \n",
              "mean     91.994480    150.603345     0.460289  \n",
              "std     308.832664    489.946628     0.498533  \n",
              "min       0.918962      1.115070     0.000000  \n",
              "25%      16.742939     26.750093     0.000000  \n",
              "50%      27.049199     44.603975     0.000000  \n",
              "75%      57.139089    101.925711     1.000000  \n",
              "max    5538.873638  10730.168759     1.000000  \n",
              "\n",
              "[8 rows x 668 columns]"
            ],
            "text/html": [
              "\n",
              "  <div id=\"df-c1d444da-2e8f-4c4a-83e4-2fa3a2a0d31c\">\n",
              "    <div class=\"colab-df-container\">\n",
              "      <div>\n",
              "<style scoped>\n",
              "    .dataframe tbody tr th:only-of-type {\n",
              "        vertical-align: middle;\n",
              "    }\n",
              "\n",
              "    .dataframe tbody tr th {\n",
              "        vertical-align: top;\n",
              "    }\n",
              "\n",
              "    .dataframe thead th {\n",
              "        text-align: right;\n",
              "    }\n",
              "</style>\n",
              "<table border=\"1\" class=\"dataframe\">\n",
              "  <thead>\n",
              "    <tr style=\"text-align: right;\">\n",
              "      <th></th>\n",
              "      <th>FP1_power_delta</th>\n",
              "      <th>FP1_power_theta</th>\n",
              "      <th>FP1_power_alpha</th>\n",
              "      <th>FP1_power_beta</th>\n",
              "      <th>FP1_power_gamma</th>\n",
              "      <th>FP2_power_delta</th>\n",
              "      <th>FP2_power_theta</th>\n",
              "      <th>FP2_power_alpha</th>\n",
              "      <th>FP2_power_beta</th>\n",
              "      <th>FP2_power_gamma</th>\n",
              "      <th>...</th>\n",
              "      <th>T5_STD_D4</th>\n",
              "      <th>T5_STD_D5</th>\n",
              "      <th>T5_STD_D6</th>\n",
              "      <th>T6_STD_D1</th>\n",
              "      <th>T6_STD_D2</th>\n",
              "      <th>T6_STD_D3</th>\n",
              "      <th>T6_STD_D4</th>\n",
              "      <th>T6_STD_D5</th>\n",
              "      <th>T6_STD_D6</th>\n",
              "      <th>epileptic_</th>\n",
              "    </tr>\n",
              "  </thead>\n",
              "  <tbody>\n",
              "    <tr>\n",
              "      <th>count</th>\n",
              "      <td>2216.000000</td>\n",
              "      <td>2216.000000</td>\n",
              "      <td>2216.000000</td>\n",
              "      <td>2216.000000</td>\n",
              "      <td>2216.000000</td>\n",
              "      <td>2216.000000</td>\n",
              "      <td>2216.000000</td>\n",
              "      <td>2216.000000</td>\n",
              "      <td>2216.000000</td>\n",
              "      <td>2216.000000</td>\n",
              "      <td>...</td>\n",
              "      <td>2216.000000</td>\n",
              "      <td>2216.000000</td>\n",
              "      <td>2216.000000</td>\n",
              "      <td>2216.000000</td>\n",
              "      <td>2216.000000</td>\n",
              "      <td>2216.000000</td>\n",
              "      <td>2216.000000</td>\n",
              "      <td>2216.000000</td>\n",
              "      <td>2216.000000</td>\n",
              "      <td>2216.000000</td>\n",
              "    </tr>\n",
              "    <tr>\n",
              "      <th>mean</th>\n",
              "      <td>2784.618464</td>\n",
              "      <td>988.760235</td>\n",
              "      <td>746.234771</td>\n",
              "      <td>701.487094</td>\n",
              "      <td>1001.431795</td>\n",
              "      <td>2085.578266</td>\n",
              "      <td>992.570476</td>\n",
              "      <td>895.149975</td>\n",
              "      <td>668.364261</td>\n",
              "      <td>1031.370227</td>\n",
              "      <td>...</td>\n",
              "      <td>58.296417</td>\n",
              "      <td>88.001721</td>\n",
              "      <td>143.249343</td>\n",
              "      <td>34.949327</td>\n",
              "      <td>29.083232</td>\n",
              "      <td>46.686025</td>\n",
              "      <td>61.305950</td>\n",
              "      <td>91.994480</td>\n",
              "      <td>150.603345</td>\n",
              "      <td>0.460289</td>\n",
              "    </tr>\n",
              "    <tr>\n",
              "      <th>std</th>\n",
              "      <td>27119.740834</td>\n",
              "      <td>12199.666703</td>\n",
              "      <td>12018.648373</td>\n",
              "      <td>10668.946271</td>\n",
              "      <td>14544.502538</td>\n",
              "      <td>20670.847816</td>\n",
              "      <td>12618.098105</td>\n",
              "      <td>14047.391047</td>\n",
              "      <td>10791.187751</td>\n",
              "      <td>14990.469348</td>\n",
              "      <td>...</td>\n",
              "      <td>203.322445</td>\n",
              "      <td>304.407625</td>\n",
              "      <td>468.151048</td>\n",
              "      <td>315.861267</td>\n",
              "      <td>171.065282</td>\n",
              "      <td>217.826912</td>\n",
              "      <td>207.851277</td>\n",
              "      <td>308.832664</td>\n",
              "      <td>489.946628</td>\n",
              "      <td>0.498533</td>\n",
              "    </tr>\n",
              "    <tr>\n",
              "      <th>min</th>\n",
              "      <td>0.025945</td>\n",
              "      <td>0.012101</td>\n",
              "      <td>0.009409</td>\n",
              "      <td>0.007828</td>\n",
              "      <td>0.008412</td>\n",
              "      <td>0.026174</td>\n",
              "      <td>0.018836</td>\n",
              "      <td>0.010871</td>\n",
              "      <td>0.006120</td>\n",
              "      <td>0.006863</td>\n",
              "      <td>...</td>\n",
              "      <td>0.950777</td>\n",
              "      <td>1.057651</td>\n",
              "      <td>1.118569</td>\n",
              "      <td>0.525890</td>\n",
              "      <td>0.846936</td>\n",
              "      <td>0.878841</td>\n",
              "      <td>0.909989</td>\n",
              "      <td>0.918962</td>\n",
              "      <td>1.115070</td>\n",
              "      <td>0.000000</td>\n",
              "    </tr>\n",
              "    <tr>\n",
              "      <th>25%</th>\n",
              "      <td>25.524041</td>\n",
              "      <td>3.983245</td>\n",
              "      <td>1.868825</td>\n",
              "      <td>0.789355</td>\n",
              "      <td>0.381195</td>\n",
              "      <td>27.138890</td>\n",
              "      <td>4.254592</td>\n",
              "      <td>1.989122</td>\n",
              "      <td>0.845677</td>\n",
              "      <td>0.408081</td>\n",
              "      <td>...</td>\n",
              "      <td>12.298674</td>\n",
              "      <td>14.891381</td>\n",
              "      <td>23.835592</td>\n",
              "      <td>3.525874</td>\n",
              "      <td>5.796019</td>\n",
              "      <td>11.084702</td>\n",
              "      <td>14.190864</td>\n",
              "      <td>16.742939</td>\n",
              "      <td>26.750093</td>\n",
              "      <td>0.000000</td>\n",
              "    </tr>\n",
              "    <tr>\n",
              "      <th>50%</th>\n",
              "      <td>68.865751</td>\n",
              "      <td>8.807711</td>\n",
              "      <td>3.874506</td>\n",
              "      <td>1.795211</td>\n",
              "      <td>0.972968</td>\n",
              "      <td>73.483311</td>\n",
              "      <td>9.688978</td>\n",
              "      <td>4.133793</td>\n",
              "      <td>1.863871</td>\n",
              "      <td>0.973485</td>\n",
              "      <td>...</td>\n",
              "      <td>18.643405</td>\n",
              "      <td>23.730646</td>\n",
              "      <td>39.095777</td>\n",
              "      <td>5.855205</td>\n",
              "      <td>8.580373</td>\n",
              "      <td>15.806232</td>\n",
              "      <td>20.932141</td>\n",
              "      <td>27.049199</td>\n",
              "      <td>44.603975</td>\n",
              "      <td>0.000000</td>\n",
              "    </tr>\n",
              "    <tr>\n",
              "      <th>75%</th>\n",
              "      <td>271.174926</td>\n",
              "      <td>30.093458</td>\n",
              "      <td>12.052042</td>\n",
              "      <td>6.926863</td>\n",
              "      <td>3.777847</td>\n",
              "      <td>288.354575</td>\n",
              "      <td>29.503963</td>\n",
              "      <td>12.237335</td>\n",
              "      <td>7.139232</td>\n",
              "      <td>3.782326</td>\n",
              "      <td>...</td>\n",
              "      <td>32.798456</td>\n",
              "      <td>51.946562</td>\n",
              "      <td>84.372372</td>\n",
              "      <td>11.453332</td>\n",
              "      <td>14.326938</td>\n",
              "      <td>27.297323</td>\n",
              "      <td>36.869445</td>\n",
              "      <td>57.139089</td>\n",
              "      <td>101.925711</td>\n",
              "      <td>1.000000</td>\n",
              "    </tr>\n",
              "    <tr>\n",
              "      <th>max</th>\n",
              "      <td>859895.816209</td>\n",
              "      <td>350651.120898</td>\n",
              "      <td>403916.724142</td>\n",
              "      <td>291058.726462</td>\n",
              "      <td>285573.572449</td>\n",
              "      <td>604373.606743</td>\n",
              "      <td>346870.948081</td>\n",
              "      <td>407756.698134</td>\n",
              "      <td>291640.733124</td>\n",
              "      <td>287933.513127</td>\n",
              "      <td>...</td>\n",
              "      <td>3283.112473</td>\n",
              "      <td>5501.471732</td>\n",
              "      <td>11030.429643</td>\n",
              "      <td>5777.660876</td>\n",
              "      <td>3620.162008</td>\n",
              "      <td>4585.801410</td>\n",
              "      <td>3620.523797</td>\n",
              "      <td>5538.873638</td>\n",
              "      <td>10730.168759</td>\n",
              "      <td>1.000000</td>\n",
              "    </tr>\n",
              "  </tbody>\n",
              "</table>\n",
              "<p>8 rows × 668 columns</p>\n",
              "</div>\n",
              "      <button class=\"colab-df-convert\" onclick=\"convertToInteractive('df-c1d444da-2e8f-4c4a-83e4-2fa3a2a0d31c')\"\n",
              "              title=\"Convert this dataframe to an interactive table.\"\n",
              "              style=\"display:none;\">\n",
              "        \n",
              "  <svg xmlns=\"http://www.w3.org/2000/svg\" height=\"24px\"viewBox=\"0 0 24 24\"\n",
              "       width=\"24px\">\n",
              "    <path d=\"M0 0h24v24H0V0z\" fill=\"none\"/>\n",
              "    <path d=\"M18.56 5.44l.94 2.06.94-2.06 2.06-.94-2.06-.94-.94-2.06-.94 2.06-2.06.94zm-11 1L8.5 8.5l.94-2.06 2.06-.94-2.06-.94L8.5 2.5l-.94 2.06-2.06.94zm10 10l.94 2.06.94-2.06 2.06-.94-2.06-.94-.94-2.06-.94 2.06-2.06.94z\"/><path d=\"M17.41 7.96l-1.37-1.37c-.4-.4-.92-.59-1.43-.59-.52 0-1.04.2-1.43.59L10.3 9.45l-7.72 7.72c-.78.78-.78 2.05 0 2.83L4 21.41c.39.39.9.59 1.41.59.51 0 1.02-.2 1.41-.59l7.78-7.78 2.81-2.81c.8-.78.8-2.07 0-2.86zM5.41 20L4 18.59l7.72-7.72 1.47 1.35L5.41 20z\"/>\n",
              "  </svg>\n",
              "      </button>\n",
              "      \n",
              "  <style>\n",
              "    .colab-df-container {\n",
              "      display:flex;\n",
              "      flex-wrap:wrap;\n",
              "      gap: 12px;\n",
              "    }\n",
              "\n",
              "    .colab-df-convert {\n",
              "      background-color: #E8F0FE;\n",
              "      border: none;\n",
              "      border-radius: 50%;\n",
              "      cursor: pointer;\n",
              "      display: none;\n",
              "      fill: #1967D2;\n",
              "      height: 32px;\n",
              "      padding: 0 0 0 0;\n",
              "      width: 32px;\n",
              "    }\n",
              "\n",
              "    .colab-df-convert:hover {\n",
              "      background-color: #E2EBFA;\n",
              "      box-shadow: 0px 1px 2px rgba(60, 64, 67, 0.3), 0px 1px 3px 1px rgba(60, 64, 67, 0.15);\n",
              "      fill: #174EA6;\n",
              "    }\n",
              "\n",
              "    [theme=dark] .colab-df-convert {\n",
              "      background-color: #3B4455;\n",
              "      fill: #D2E3FC;\n",
              "    }\n",
              "\n",
              "    [theme=dark] .colab-df-convert:hover {\n",
              "      background-color: #434B5C;\n",
              "      box-shadow: 0px 1px 3px 1px rgba(0, 0, 0, 0.15);\n",
              "      filter: drop-shadow(0px 1px 2px rgba(0, 0, 0, 0.3));\n",
              "      fill: #FFFFFF;\n",
              "    }\n",
              "  </style>\n",
              "\n",
              "      <script>\n",
              "        const buttonEl =\n",
              "          document.querySelector('#df-c1d444da-2e8f-4c4a-83e4-2fa3a2a0d31c button.colab-df-convert');\n",
              "        buttonEl.style.display =\n",
              "          google.colab.kernel.accessAllowed ? 'block' : 'none';\n",
              "\n",
              "        async function convertToInteractive(key) {\n",
              "          const element = document.querySelector('#df-c1d444da-2e8f-4c4a-83e4-2fa3a2a0d31c');\n",
              "          const dataTable =\n",
              "            await google.colab.kernel.invokeFunction('convertToInteractive',\n",
              "                                                     [key], {});\n",
              "          if (!dataTable) return;\n",
              "\n",
              "          const docLinkHtml = 'Like what you see? Visit the ' +\n",
              "            '<a target=\"_blank\" href=https://colab.research.google.com/notebooks/data_table.ipynb>data table notebook</a>'\n",
              "            + ' to learn more about interactive tables.';\n",
              "          element.innerHTML = '';\n",
              "          dataTable['output_type'] = 'display_data';\n",
              "          await google.colab.output.renderOutput(dataTable, element);\n",
              "          const docLink = document.createElement('div');\n",
              "          docLink.innerHTML = docLinkHtml;\n",
              "          element.appendChild(docLink);\n",
              "        }\n",
              "      </script>\n",
              "    </div>\n",
              "  </div>\n",
              "  "
            ]
          },
          "metadata": {},
          "execution_count": 11
        }
      ]
    },
    {
      "cell_type": "code",
      "source": [
        "data.info()"
      ],
      "metadata": {
        "id": "LmzfkEF6qdim",
        "outputId": "49a14359-62fe-4765-eca4-625f7d4d4b8e",
        "colab": {
          "base_uri": "https://localhost:8080/"
        }
      },
      "execution_count": 12,
      "outputs": [
        {
          "output_type": "stream",
          "name": "stdout",
          "text": [
            "<class 'pandas.core.frame.DataFrame'>\n",
            "RangeIndex: 2216 entries, 0 to 2215\n",
            "Columns: 668 entries, FP1_power_delta to epileptic_\n",
            "dtypes: float64(667), int64(1)\n",
            "memory usage: 11.3 MB\n"
          ]
        }
      ]
    },
    {
      "cell_type": "markdown",
      "source": [
        "# **Visualization:=**\n",
        "\n",
        "**In order to visualizate data we are going to use seaborn plots that is not used in other kernels to inform you and for diversity of plots. What I use in real life is mostly violin plot and swarm plot. Do not forget we are not selecting feature, we are trying to know data like looking at the drink list at the pub door.**\n",
        "\n",
        "**Before applying bar plot we need to normalization or standirdization. Because differences between values of features are very high to observe on plot. I plot features in 3 group and each group includes 10 features to observe better.**"
      ],
      "metadata": {
        "id": "QlnbnDtWq431"
      }
    },
    {
      "cell_type": "code",
      "source": [
        "y = data.epileptic_                          # M or B \n",
        "list = ['epileptic_']\n",
        "x = data.drop(list,axis = 1 )\n",
        "x.head()"
      ],
      "metadata": {
        "id": "brReUuE9q2NN",
        "outputId": "90f59ec7-8f9e-4e33-dd82-80913dfecb3c",
        "colab": {
          "base_uri": "https://localhost:8080/",
          "height": 299
        }
      },
      "execution_count": null,
      "outputs": [
        {
          "output_type": "execute_result",
          "data": {
            "text/plain": [
              "   FP1_power_delta  FP1_power_theta  FP1_power_alpha  FP1_power_beta  \\\n",
              "0        15.980332         8.633358         3.092433        0.846559   \n",
              "1       223.267803        41.573241        13.043525        6.463381   \n",
              "2       158.673907        31.788608         9.956198        3.736977   \n",
              "3        29.767326         3.875543         1.553127        0.438266   \n",
              "4        33.821075         3.635210         1.347280        0.313205   \n",
              "\n",
              "   FP1_power_gamma  FP2_power_delta  FP2_power_theta  FP2_power_alpha  \\\n",
              "0         0.372832        17.581626         9.937238         3.485713   \n",
              "1         6.168712       298.274432        50.013025        14.411482   \n",
              "2         2.926979       232.762741        39.332981        10.956081   \n",
              "3         0.140495        45.206547         5.173542         2.028637   \n",
              "4         0.080396        55.670043         4.925017         1.783729   \n",
              "\n",
              "   FP2_power_beta  FP2_power_gamma  ...  T5_STD_D3  T5_STD_D4  T5_STD_D5  \\\n",
              "0        0.945396         0.428797  ...  18.725281  31.427918  29.699413   \n",
              "1        6.659230         4.942250  ...  17.750953  24.822720  47.185918   \n",
              "2        3.478036         2.153082  ...  13.739782  21.708222  47.412375   \n",
              "3        0.528962         0.161283  ...  11.443707  26.319506  39.628894   \n",
              "4        0.394463         0.102254  ...  11.015096  26.111048  39.177537   \n",
              "\n",
              "   T5_STD_D6  T6_STD_D1  T6_STD_D2  T6_STD_D3  T6_STD_D4   T6_STD_D5  \\\n",
              "0  32.013546   3.583559  12.529528  45.831132  61.890813   34.783454   \n",
              "1  93.619195  14.158489  15.217886  30.927407  77.324322  153.442359   \n",
              "2  85.729645   9.493639  11.824569  24.555772  59.229187  112.406306   \n",
              "3  51.473202   1.872515   5.392639  17.296780  35.824586   44.892899   \n",
              "4  52.925676   1.408291   4.556997  12.733549  25.676801   44.406617   \n",
              "\n",
              "    T6_STD_D6  \n",
              "0   33.245906  \n",
              "1  213.780950  \n",
              "2  171.618208  \n",
              "3   79.613460  \n",
              "4   94.770581  \n",
              "\n",
              "[5 rows x 667 columns]"
            ],
            "text/html": [
              "\n",
              "  <div id=\"df-68194087-f2ee-4931-a8ca-cf760fc63c54\">\n",
              "    <div class=\"colab-df-container\">\n",
              "      <div>\n",
              "<style scoped>\n",
              "    .dataframe tbody tr th:only-of-type {\n",
              "        vertical-align: middle;\n",
              "    }\n",
              "\n",
              "    .dataframe tbody tr th {\n",
              "        vertical-align: top;\n",
              "    }\n",
              "\n",
              "    .dataframe thead th {\n",
              "        text-align: right;\n",
              "    }\n",
              "</style>\n",
              "<table border=\"1\" class=\"dataframe\">\n",
              "  <thead>\n",
              "    <tr style=\"text-align: right;\">\n",
              "      <th></th>\n",
              "      <th>FP1_power_delta</th>\n",
              "      <th>FP1_power_theta</th>\n",
              "      <th>FP1_power_alpha</th>\n",
              "      <th>FP1_power_beta</th>\n",
              "      <th>FP1_power_gamma</th>\n",
              "      <th>FP2_power_delta</th>\n",
              "      <th>FP2_power_theta</th>\n",
              "      <th>FP2_power_alpha</th>\n",
              "      <th>FP2_power_beta</th>\n",
              "      <th>FP2_power_gamma</th>\n",
              "      <th>...</th>\n",
              "      <th>T5_STD_D3</th>\n",
              "      <th>T5_STD_D4</th>\n",
              "      <th>T5_STD_D5</th>\n",
              "      <th>T5_STD_D6</th>\n",
              "      <th>T6_STD_D1</th>\n",
              "      <th>T6_STD_D2</th>\n",
              "      <th>T6_STD_D3</th>\n",
              "      <th>T6_STD_D4</th>\n",
              "      <th>T6_STD_D5</th>\n",
              "      <th>T6_STD_D6</th>\n",
              "    </tr>\n",
              "  </thead>\n",
              "  <tbody>\n",
              "    <tr>\n",
              "      <th>0</th>\n",
              "      <td>15.980332</td>\n",
              "      <td>8.633358</td>\n",
              "      <td>3.092433</td>\n",
              "      <td>0.846559</td>\n",
              "      <td>0.372832</td>\n",
              "      <td>17.581626</td>\n",
              "      <td>9.937238</td>\n",
              "      <td>3.485713</td>\n",
              "      <td>0.945396</td>\n",
              "      <td>0.428797</td>\n",
              "      <td>...</td>\n",
              "      <td>18.725281</td>\n",
              "      <td>31.427918</td>\n",
              "      <td>29.699413</td>\n",
              "      <td>32.013546</td>\n",
              "      <td>3.583559</td>\n",
              "      <td>12.529528</td>\n",
              "      <td>45.831132</td>\n",
              "      <td>61.890813</td>\n",
              "      <td>34.783454</td>\n",
              "      <td>33.245906</td>\n",
              "    </tr>\n",
              "    <tr>\n",
              "      <th>1</th>\n",
              "      <td>223.267803</td>\n",
              "      <td>41.573241</td>\n",
              "      <td>13.043525</td>\n",
              "      <td>6.463381</td>\n",
              "      <td>6.168712</td>\n",
              "      <td>298.274432</td>\n",
              "      <td>50.013025</td>\n",
              "      <td>14.411482</td>\n",
              "      <td>6.659230</td>\n",
              "      <td>4.942250</td>\n",
              "      <td>...</td>\n",
              "      <td>17.750953</td>\n",
              "      <td>24.822720</td>\n",
              "      <td>47.185918</td>\n",
              "      <td>93.619195</td>\n",
              "      <td>14.158489</td>\n",
              "      <td>15.217886</td>\n",
              "      <td>30.927407</td>\n",
              "      <td>77.324322</td>\n",
              "      <td>153.442359</td>\n",
              "      <td>213.780950</td>\n",
              "    </tr>\n",
              "    <tr>\n",
              "      <th>2</th>\n",
              "      <td>158.673907</td>\n",
              "      <td>31.788608</td>\n",
              "      <td>9.956198</td>\n",
              "      <td>3.736977</td>\n",
              "      <td>2.926979</td>\n",
              "      <td>232.762741</td>\n",
              "      <td>39.332981</td>\n",
              "      <td>10.956081</td>\n",
              "      <td>3.478036</td>\n",
              "      <td>2.153082</td>\n",
              "      <td>...</td>\n",
              "      <td>13.739782</td>\n",
              "      <td>21.708222</td>\n",
              "      <td>47.412375</td>\n",
              "      <td>85.729645</td>\n",
              "      <td>9.493639</td>\n",
              "      <td>11.824569</td>\n",
              "      <td>24.555772</td>\n",
              "      <td>59.229187</td>\n",
              "      <td>112.406306</td>\n",
              "      <td>171.618208</td>\n",
              "    </tr>\n",
              "    <tr>\n",
              "      <th>3</th>\n",
              "      <td>29.767326</td>\n",
              "      <td>3.875543</td>\n",
              "      <td>1.553127</td>\n",
              "      <td>0.438266</td>\n",
              "      <td>0.140495</td>\n",
              "      <td>45.206547</td>\n",
              "      <td>5.173542</td>\n",
              "      <td>2.028637</td>\n",
              "      <td>0.528962</td>\n",
              "      <td>0.161283</td>\n",
              "      <td>...</td>\n",
              "      <td>11.443707</td>\n",
              "      <td>26.319506</td>\n",
              "      <td>39.628894</td>\n",
              "      <td>51.473202</td>\n",
              "      <td>1.872515</td>\n",
              "      <td>5.392639</td>\n",
              "      <td>17.296780</td>\n",
              "      <td>35.824586</td>\n",
              "      <td>44.892899</td>\n",
              "      <td>79.613460</td>\n",
              "    </tr>\n",
              "    <tr>\n",
              "      <th>4</th>\n",
              "      <td>33.821075</td>\n",
              "      <td>3.635210</td>\n",
              "      <td>1.347280</td>\n",
              "      <td>0.313205</td>\n",
              "      <td>0.080396</td>\n",
              "      <td>55.670043</td>\n",
              "      <td>4.925017</td>\n",
              "      <td>1.783729</td>\n",
              "      <td>0.394463</td>\n",
              "      <td>0.102254</td>\n",
              "      <td>...</td>\n",
              "      <td>11.015096</td>\n",
              "      <td>26.111048</td>\n",
              "      <td>39.177537</td>\n",
              "      <td>52.925676</td>\n",
              "      <td>1.408291</td>\n",
              "      <td>4.556997</td>\n",
              "      <td>12.733549</td>\n",
              "      <td>25.676801</td>\n",
              "      <td>44.406617</td>\n",
              "      <td>94.770581</td>\n",
              "    </tr>\n",
              "  </tbody>\n",
              "</table>\n",
              "<p>5 rows × 667 columns</p>\n",
              "</div>\n",
              "      <button class=\"colab-df-convert\" onclick=\"convertToInteractive('df-68194087-f2ee-4931-a8ca-cf760fc63c54')\"\n",
              "              title=\"Convert this dataframe to an interactive table.\"\n",
              "              style=\"display:none;\">\n",
              "        \n",
              "  <svg xmlns=\"http://www.w3.org/2000/svg\" height=\"24px\"viewBox=\"0 0 24 24\"\n",
              "       width=\"24px\">\n",
              "    <path d=\"M0 0h24v24H0V0z\" fill=\"none\"/>\n",
              "    <path d=\"M18.56 5.44l.94 2.06.94-2.06 2.06-.94-2.06-.94-.94-2.06-.94 2.06-2.06.94zm-11 1L8.5 8.5l.94-2.06 2.06-.94-2.06-.94L8.5 2.5l-.94 2.06-2.06.94zm10 10l.94 2.06.94-2.06 2.06-.94-2.06-.94-.94-2.06-.94 2.06-2.06.94z\"/><path d=\"M17.41 7.96l-1.37-1.37c-.4-.4-.92-.59-1.43-.59-.52 0-1.04.2-1.43.59L10.3 9.45l-7.72 7.72c-.78.78-.78 2.05 0 2.83L4 21.41c.39.39.9.59 1.41.59.51 0 1.02-.2 1.41-.59l7.78-7.78 2.81-2.81c.8-.78.8-2.07 0-2.86zM5.41 20L4 18.59l7.72-7.72 1.47 1.35L5.41 20z\"/>\n",
              "  </svg>\n",
              "      </button>\n",
              "      \n",
              "  <style>\n",
              "    .colab-df-container {\n",
              "      display:flex;\n",
              "      flex-wrap:wrap;\n",
              "      gap: 12px;\n",
              "    }\n",
              "\n",
              "    .colab-df-convert {\n",
              "      background-color: #E8F0FE;\n",
              "      border: none;\n",
              "      border-radius: 50%;\n",
              "      cursor: pointer;\n",
              "      display: none;\n",
              "      fill: #1967D2;\n",
              "      height: 32px;\n",
              "      padding: 0 0 0 0;\n",
              "      width: 32px;\n",
              "    }\n",
              "\n",
              "    .colab-df-convert:hover {\n",
              "      background-color: #E2EBFA;\n",
              "      box-shadow: 0px 1px 2px rgba(60, 64, 67, 0.3), 0px 1px 3px 1px rgba(60, 64, 67, 0.15);\n",
              "      fill: #174EA6;\n",
              "    }\n",
              "\n",
              "    [theme=dark] .colab-df-convert {\n",
              "      background-color: #3B4455;\n",
              "      fill: #D2E3FC;\n",
              "    }\n",
              "\n",
              "    [theme=dark] .colab-df-convert:hover {\n",
              "      background-color: #434B5C;\n",
              "      box-shadow: 0px 1px 3px 1px rgba(0, 0, 0, 0.15);\n",
              "      filter: drop-shadow(0px 1px 2px rgba(0, 0, 0, 0.3));\n",
              "      fill: #FFFFFF;\n",
              "    }\n",
              "  </style>\n",
              "\n",
              "      <script>\n",
              "        const buttonEl =\n",
              "          document.querySelector('#df-68194087-f2ee-4931-a8ca-cf760fc63c54 button.colab-df-convert');\n",
              "        buttonEl.style.display =\n",
              "          google.colab.kernel.accessAllowed ? 'block' : 'none';\n",
              "\n",
              "        async function convertToInteractive(key) {\n",
              "          const element = document.querySelector('#df-68194087-f2ee-4931-a8ca-cf760fc63c54');\n",
              "          const dataTable =\n",
              "            await google.colab.kernel.invokeFunction('convertToInteractive',\n",
              "                                                     [key], {});\n",
              "          if (!dataTable) return;\n",
              "\n",
              "          const docLinkHtml = 'Like what you see? Visit the ' +\n",
              "            '<a target=\"_blank\" href=https://colab.research.google.com/notebooks/data_table.ipynb>data table notebook</a>'\n",
              "            + ' to learn more about interactive tables.';\n",
              "          element.innerHTML = '';\n",
              "          dataTable['output_type'] = 'display_data';\n",
              "          await google.colab.output.renderOutput(dataTable, element);\n",
              "          const docLink = document.createElement('div');\n",
              "          docLink.innerHTML = docLinkHtml;\n",
              "          element.appendChild(docLink);\n",
              "        }\n",
              "      </script>\n",
              "    </div>\n",
              "  </div>\n",
              "  "
            ]
          },
          "metadata": {},
          "execution_count": 14
        }
      ]
    },
    {
      "cell_type": "code",
      "source": [
        "ax = sns.countplot(y,label=\"Count\")       # M = 212, B = 357\n",
        "Epileptic, Non_epileptic = y.value_counts()\n",
        "print('Number of Epileptic: ',Epileptic)\n",
        "print('Number of Non_epileptic : ',Non_epileptic)"
      ],
      "metadata": {
        "id": "hygalqQGrWDg",
        "outputId": "8ed30e22-912e-4a54-f85d-d9f63e809148",
        "colab": {
          "base_uri": "https://localhost:8080/",
          "height": 301
        }
      },
      "execution_count": null,
      "outputs": [
        {
          "output_type": "stream",
          "name": "stdout",
          "text": [
            "Number of Epileptic:  1196\n",
            "Number of Non_epileptic :  1020\n"
          ]
        },
        {
          "output_type": "display_data",
          "data": {
            "text/plain": [
              "<Figure size 432x288 with 1 Axes>"
            ],
            "image/png": "[encoded data removed]"
          },
          "metadata": {
            "needs_background": "light"
          }
        }
      ]
    },
    {
      "cell_type": "code",
      "source": [
        "# first ten features\n",
        "data_dia = y\n",
        "data = x\n",
        "data_n_2 = (data - data.mean()) / (data.std())              # standardization\n",
        "data = pd.concat([y,data_n_2.iloc[:,0:10]],axis=1)\n",
        "data = pd.melt(data,id_vars=\"epileptic_\",\n",
        "                    var_name=\"features\",\n",
        "                    value_name='value')\n",
        "plt.figure(figsize=(10,10))\n",
        "sns.barplot(x=\"features\", y=\"value\", hue=\"epileptic_\", data=data)\n",
        "plt.xticks(rotation=90)"
      ],
      "metadata": {
        "id": "Rorxgx6QrurB",
        "outputId": "bd4220a7-8b79-4315-b657-d7607fcdca62",
        "colab": {
          "base_uri": "https://localhost:8080/",
          "height": 892
        }
      },
      "execution_count": null,
      "outputs": [
        {
          "output_type": "execute_result",
          "data": {
            "text/plain": [
              "(array([0, 1, 2, 3, 4, 5, 6, 7, 8, 9]),\n",
              " [Text(0, 0, 'FP1_power_delta'),\n",
              "  Text(1, 0, 'FP1_power_theta'),\n",
              "  Text(2, 0, 'FP1_power_alpha'),\n",
              "  Text(3, 0, 'FP1_power_beta'),\n",
              "  Text(4, 0, 'FP1_power_gamma'),\n",
              "  Text(5, 0, 'FP2_power_delta'),\n",
              "  Text(6, 0, 'FP2_power_theta'),\n",
              "  Text(7, 0, 'FP2_power_alpha'),\n",
              "  Text(8, 0, 'FP2_power_beta'),\n",
              "  Text(9, 0, 'FP2_power_gamma')])"
            ]
          },
          "metadata": {},
          "execution_count": 16
        },
        {
          "output_type": "display_data",
          "data": {
            "text/plain": [
              "<Figure size 720x720 with 1 Axes>"
            ],
            "image/png": "[encoded data removed]"
          },
          "metadata": {
            "needs_background": "light"
          }
        }
      ]
    },
    {
      "cell_type": "code",
      "source": [
        "# Second ten features\n",
        "data = pd.concat([y,data_n_2.iloc[:,10:20]],axis=1)\n",
        "data = pd.melt(data,id_vars=\"epileptic_\",\n",
        "                    var_name=\"features\",\n",
        "                    value_name='value')\n",
        "plt.figure(figsize=(10,10))\n",
        "sns.barplot(x=\"features\", y=\"value\", hue=\"epileptic_\", data=data)\n",
        "plt.xticks(rotation=90)"
      ],
      "metadata": {
        "id": "YjwMUQ8fr88z",
        "outputId": "09f333e6-6808-410f-ba3a-4f6574605741",
        "colab": {
          "base_uri": "https://localhost:8080/",
          "height": 886
        }
      },
      "execution_count": null,
      "outputs": [
        {
          "output_type": "execute_result",
          "data": {
            "text/plain": [
              "(array([0, 1, 2, 3, 4, 5, 6, 7, 8, 9]),\n",
              " [Text(0, 0, 'F3_power_delta'),\n",
              "  Text(1, 0, 'F3_power_theta'),\n",
              "  Text(2, 0, 'F3_power_alpha'),\n",
              "  Text(3, 0, 'F3_power_beta'),\n",
              "  Text(4, 0, 'F3_power_gamma'),\n",
              "  Text(5, 0, 'F4_power_delta'),\n",
              "  Text(6, 0, 'F4_power_theta'),\n",
              "  Text(7, 0, 'F4_power_alpha'),\n",
              "  Text(8, 0, 'F4_power_beta'),\n",
              "  Text(9, 0, 'F4_power_gamma')])"
            ]
          },
          "metadata": {},
          "execution_count": 18
        },
        {
          "output_type": "display_data",
          "data": {
            "text/plain": [
              "<Figure size 720x720 with 1 Axes>"
            ],
            "image/png": "[encoded data removed]"
          },
          "metadata": {
            "needs_background": "light"
          }
        }
      ]
    },
    {
      "cell_type": "code",
      "source": [
        "# 3ed ten features\n",
        "data = pd.concat([y,data_n_2.iloc[:,20:31]],axis=1)\n",
        "data = pd.melt(data,id_vars=\"epileptic_\",\n",
        "                    var_name=\"features\",\n",
        "                    value_name='value')\n",
        "plt.figure(figsize=(10,10))\n",
        "sns.barplot(x=\"features\", y=\"value\", hue=\"epileptic_\", data=data)\n",
        "plt.xticks(rotation=90)"
      ],
      "metadata": {
        "id": "0gq1DbpfsUpb",
        "outputId": "795ebb83-b54e-4844-9a7c-481fc789befe",
        "colab": {
          "base_uri": "https://localhost:8080/",
          "height": 905
        }
      },
      "execution_count": null,
      "outputs": [
        {
          "output_type": "execute_result",
          "data": {
            "text/plain": [
              "(array([ 0,  1,  2,  3,  4,  5,  6,  7,  8,  9, 10]),\n",
              " [Text(0, 0, 'C3_power_delta'),\n",
              "  Text(1, 0, 'C3_power_theta'),\n",
              "  Text(2, 0, 'C3_power_alpha'),\n",
              "  Text(3, 0, 'C3_power_beta'),\n",
              "  Text(4, 0, 'C3_power_gamma'),\n",
              "  Text(5, 0, 'C4_power_delta'),\n",
              "  Text(6, 0, 'C4_power_theta'),\n",
              "  Text(7, 0, 'C4_power_alpha'),\n",
              "  Text(8, 0, 'C4_power_beta'),\n",
              "  Text(9, 0, 'C4_power_gamma'),\n",
              "  Text(10, 0, 'P3_power_delta')])"
            ]
          },
          "metadata": {},
          "execution_count": 19
        },
        {
          "output_type": "display_data",
          "data": {
            "text/plain": [
              "<Figure size 720x720 with 1 Axes>"
            ],
            "image/png": "[encoded data removed]"
          },
          "metadata": {
            "needs_background": "light"
          }
        }
      ]
    },
    {
      "cell_type": "code",
      "source": [
        "df_copied = data.copy()"
      ],
      "metadata": {
        "id": "xaaypceKPmcO"
      },
      "execution_count": null,
      "outputs": []
    },
    {
      "cell_type": "markdown",
      "source": [
        "# **PCA:=**"
      ],
      "metadata": {
        "id": "vsWIS-jaQFT4"
      }
    },
    {
      "cell_type": "code",
      "source": [
        "from sklearn.pipeline import Pipeline\n",
        "from sklearn.decomposition import PCA\n",
        "from sklearn.preprocessing import StandardScaler\n",
        "from sklearn.model_selection import StratifiedShuffleSplit\n",
        "from sklearn.linear_model import LogisticRegression\n",
        "from sklearn.ensemble import RandomForestClassifier\n",
        "from xgboost import XGBClassifier\n",
        "from sklearn.metrics import accuracy_score\n",
        "from sklearn.metrics import recall_score"
      ],
      "metadata": {
        "id": "X1y9FIAgPqnn"
      },
      "execution_count": 20,
      "outputs": []
    },
    {
      "cell_type": "code",
      "source": [
        "X = data.drop('epileptic_', axis=1, inplace=False)\n",
        "y = data.epileptic_"
      ],
      "metadata": {
        "id": "ATeREbvEQEfl"
      },
      "execution_count": 14,
      "outputs": []
    },
    {
      "cell_type": "code",
      "source": [
        "X.head()"
      ],
      "metadata": {
        "colab": {
          "base_uri": "https://localhost:8080/",
          "height": 299
        },
        "id": "UumfGA0UQr7k",
        "outputId": "f9e68c71-56b0-413d-a2b6-e56f04b8806f"
      },
      "execution_count": 15,
      "outputs": [
        {
          "output_type": "execute_result",
          "data": {
            "text/plain": [
              "   FP1_power_delta  FP1_power_theta  FP1_power_alpha  FP1_power_beta  \\\n",
              "0        15.980332         8.633358         3.092433        0.846559   \n",
              "1       223.267803        41.573241        13.043525        6.463381   \n",
              "2       158.673907        31.788608         9.956198        3.736977   \n",
              "3        29.767326         3.875543         1.553127        0.438266   \n",
              "4        33.821075         3.635210         1.347280        0.313205   \n",
              "\n",
              "   FP1_power_gamma  FP2_power_delta  FP2_power_theta  FP2_power_alpha  \\\n",
              "0         0.372832        17.581626         9.937238         3.485713   \n",
              "1         6.168712       298.274432        50.013025        14.411482   \n",
              "2         2.926979       232.762741        39.332981        10.956081   \n",
              "3         0.140495        45.206547         5.173542         2.028637   \n",
              "4         0.080396        55.670043         4.925017         1.783729   \n",
              "\n",
              "   FP2_power_beta  FP2_power_gamma  ...  T5_STD_D3  T5_STD_D4  T5_STD_D5  \\\n",
              "0        0.945396         0.428797  ...  18.725281  31.427918  29.699413   \n",
              "1        6.659230         4.942250  ...  17.750953  24.822720  47.185918   \n",
              "2        3.478036         2.153082  ...  13.739782  21.708222  47.412375   \n",
              "3        0.528962         0.161283  ...  11.443707  26.319506  39.628894   \n",
              "4        0.394463         0.102254  ...  11.015096  26.111048  39.177537   \n",
              "\n",
              "   T5_STD_D6  T6_STD_D1  T6_STD_D2  T6_STD_D3  T6_STD_D4   T6_STD_D5  \\\n",
              "0  32.013546   3.583559  12.529528  45.831132  61.890813   34.783454   \n",
              "1  93.619195  14.158489  15.217886  30.927407  77.324322  153.442359   \n",
              "2  85.729645   9.493639  11.824569  24.555772  59.229187  112.406306   \n",
              "3  51.473202   1.872515   5.392639  17.296780  35.824586   44.892899   \n",
              "4  52.925676   1.408291   4.556997  12.733549  25.676801   44.406617   \n",
              "\n",
              "    T6_STD_D6  \n",
              "0   33.245906  \n",
              "1  213.780950  \n",
              "2  171.618208  \n",
              "3   79.613460  \n",
              "4   94.770581  \n",
              "\n",
              "[5 rows x 667 columns]"
            ],
            "text/html": [
              "\n",
              "  <div id=\"df-350bbeac-abaf-43d3-aad8-e68580d1ce79\">\n",
              "    <div class=\"colab-df-container\">\n",
              "      <div>\n",
              "<style scoped>\n",
              "    .dataframe tbody tr th:only-of-type {\n",
              "        vertical-align: middle;\n",
              "    }\n",
              "\n",
              "    .dataframe tbody tr th {\n",
              "        vertical-align: top;\n",
              "    }\n",
              "\n",
              "    .dataframe thead th {\n",
              "        text-align: right;\n",
              "    }\n",
              "</style>\n",
              "<table border=\"1\" class=\"dataframe\">\n",
              "  <thead>\n",
              "    <tr style=\"text-align: right;\">\n",
              "      <th></th>\n",
              "      <th>FP1_power_delta</th>\n",
              "      <th>FP1_power_theta</th>\n",
              "      <th>FP1_power_alpha</th>\n",
              "      <th>FP1_power_beta</th>\n",
              "      <th>FP1_power_gamma</th>\n",
              "      <th>FP2_power_delta</th>\n",
              "      <th>FP2_power_theta</th>\n",
              "      <th>FP2_power_alpha</th>\n",
              "      <th>FP2_power_beta</th>\n",
              "      <th>FP2_power_gamma</th>\n",
              "      <th>...</th>\n",
              "      <th>T5_STD_D3</th>\n",
              "      <th>T5_STD_D4</th>\n",
              "      <th>T5_STD_D5</th>\n",
              "      <th>T5_STD_D6</th>\n",
              "      <th>T6_STD_D1</th>\n",
              "      <th>T6_STD_D2</th>\n",
              "      <th>T6_STD_D3</th>\n",
              "      <th>T6_STD_D4</th>\n",
              "      <th>T6_STD_D5</th>\n",
              "      <th>T6_STD_D6</th>\n",
              "    </tr>\n",
              "  </thead>\n",
              "  <tbody>\n",
              "    <tr>\n",
              "      <th>0</th>\n",
              "      <td>15.980332</td>\n",
              "      <td>8.633358</td>\n",
              "      <td>3.092433</td>\n",
              "      <td>0.846559</td>\n",
              "      <td>0.372832</td>\n",
              "      <td>17.581626</td>\n",
              "      <td>9.937238</td>\n",
              "      <td>3.485713</td>\n",
              "      <td>0.945396</td>\n",
              "      <td>0.428797</td>\n",
              "      <td>...</td>\n",
              "      <td>18.725281</td>\n",
              "      <td>31.427918</td>\n",
              "      <td>29.699413</td>\n",
              "      <td>32.013546</td>\n",
              "      <td>3.583559</td>\n",
              "      <td>12.529528</td>\n",
              "      <td>45.831132</td>\n",
              "      <td>61.890813</td>\n",
              "      <td>34.783454</td>\n",
              "      <td>33.245906</td>\n",
              "    </tr>\n",
              "    <tr>\n",
              "      <th>1</th>\n",
              "      <td>223.267803</td>\n",
              "      <td>41.573241</td>\n",
              "      <td>13.043525</td>\n",
              "      <td>6.463381</td>\n",
              "      <td>6.168712</td>\n",
              "      <td>298.274432</td>\n",
              "      <td>50.013025</td>\n",
              "      <td>14.411482</td>\n",
              "      <td>6.659230</td>\n",
              "      <td>4.942250</td>\n",
              "      <td>...</td>\n",
              "      <td>17.750953</td>\n",
              "      <td>24.822720</td>\n",
              "      <td>47.185918</td>\n",
              "      <td>93.619195</td>\n",
              "      <td>14.158489</td>\n",
              "      <td>15.217886</td>\n",
              "      <td>30.927407</td>\n",
              "      <td>77.324322</td>\n",
              "      <td>153.442359</td>\n",
              "      <td>213.780950</td>\n",
              "    </tr>\n",
              "    <tr>\n",
              "      <th>2</th>\n",
              "      <td>158.673907</td>\n",
              "      <td>31.788608</td>\n",
              "      <td>9.956198</td>\n",
              "      <td>3.736977</td>\n",
              "      <td>2.926979</td>\n",
              "      <td>232.762741</td>\n",
              "      <td>39.332981</td>\n",
              "      <td>10.956081</td>\n",
              "      <td>3.478036</td>\n",
              "      <td>2.153082</td>\n",
              "      <td>...</td>\n",
              "      <td>13.739782</td>\n",
              "      <td>21.708222</td>\n",
              "      <td>47.412375</td>\n",
              "      <td>85.729645</td>\n",
              "      <td>9.493639</td>\n",
              "      <td>11.824569</td>\n",
              "      <td>24.555772</td>\n",
              "      <td>59.229187</td>\n",
              "      <td>112.406306</td>\n",
              "      <td>171.618208</td>\n",
              "    </tr>\n",
              "    <tr>\n",
              "      <th>3</th>\n",
              "      <td>29.767326</td>\n",
              "      <td>3.875543</td>\n",
              "      <td>1.553127</td>\n",
              "      <td>0.438266</td>\n",
              "      <td>0.140495</td>\n",
              "      <td>45.206547</td>\n",
              "      <td>5.173542</td>\n",
              "      <td>2.028637</td>\n",
              "      <td>0.528962</td>\n",
              "      <td>0.161283</td>\n",
              "      <td>...</td>\n",
              "      <td>11.443707</td>\n",
              "      <td>26.319506</td>\n",
              "      <td>39.628894</td>\n",
              "      <td>51.473202</td>\n",
              "      <td>1.872515</td>\n",
              "      <td>5.392639</td>\n",
              "      <td>17.296780</td>\n",
              "      <td>35.824586</td>\n",
              "      <td>44.892899</td>\n",
              "      <td>79.613460</td>\n",
              "    </tr>\n",
              "    <tr>\n",
              "      <th>4</th>\n",
              "      <td>33.821075</td>\n",
              "      <td>3.635210</td>\n",
              "      <td>1.347280</td>\n",
              "      <td>0.313205</td>\n",
              "      <td>0.080396</td>\n",
              "      <td>55.670043</td>\n",
              "      <td>4.925017</td>\n",
              "      <td>1.783729</td>\n",
              "      <td>0.394463</td>\n",
              "      <td>0.102254</td>\n",
              "      <td>...</td>\n",
              "      <td>11.015096</td>\n",
              "      <td>26.111048</td>\n",
              "      <td>39.177537</td>\n",
              "      <td>52.925676</td>\n",
              "      <td>1.408291</td>\n",
              "      <td>4.556997</td>\n",
              "      <td>12.733549</td>\n",
              "      <td>25.676801</td>\n",
              "      <td>44.406617</td>\n",
              "      <td>94.770581</td>\n",
              "    </tr>\n",
              "  </tbody>\n",
              "</table>\n",
              "<p>5 rows × 667 columns</p>\n",
              "</div>\n",
              "      <button class=\"colab-df-convert\" onclick=\"convertToInteractive('df-350bbeac-abaf-43d3-aad8-e68580d1ce79')\"\n",
              "              title=\"Convert this dataframe to an interactive table.\"\n",
              "              style=\"display:none;\">\n",
              "        \n",
              "  <svg xmlns=\"http://www.w3.org/2000/svg\" height=\"24px\"viewBox=\"0 0 24 24\"\n",
              "       width=\"24px\">\n",
              "    <path d=\"M0 0h24v24H0V0z\" fill=\"none\"/>\n",
              "    <path d=\"M18.56 5.44l.94 2.06.94-2.06 2.06-.94-2.06-.94-.94-2.06-.94 2.06-2.06.94zm-11 1L8.5 8.5l.94-2.06 2.06-.94-2.06-.94L8.5 2.5l-.94 2.06-2.06.94zm10 10l.94 2.06.94-2.06 2.06-.94-2.06-.94-.94-2.06-.94 2.06-2.06.94z\"/><path d=\"M17.41 7.96l-1.37-1.37c-.4-.4-.92-.59-1.43-.59-.52 0-1.04.2-1.43.59L10.3 9.45l-7.72 7.72c-.78.78-.78 2.05 0 2.83L4 21.41c.39.39.9.59 1.41.59.51 0 1.02-.2 1.41-.59l7.78-7.78 2.81-2.81c.8-.78.8-2.07 0-2.86zM5.41 20L4 18.59l7.72-7.72 1.47 1.35L5.41 20z\"/>\n",
              "  </svg>\n",
              "      </button>\n",
              "      \n",
              "  <style>\n",
              "    .colab-df-container {\n",
              "      display:flex;\n",
              "      flex-wrap:wrap;\n",
              "      gap: 12px;\n",
              "    }\n",
              "\n",
              "    .colab-df-convert {\n",
              "      background-color: #E8F0FE;\n",
              "      border: none;\n",
              "      border-radius: 50%;\n",
              "      cursor: pointer;\n",
              "      display: none;\n",
              "      fill: #1967D2;\n",
              "      height: 32px;\n",
              "      padding: 0 0 0 0;\n",
              "      width: 32px;\n",
              "    }\n",
              "\n",
              "    .colab-df-convert:hover {\n",
              "      background-color: #E2EBFA;\n",
              "      box-shadow: 0px 1px 2px rgba(60, 64, 67, 0.3), 0px 1px 3px 1px rgba(60, 64, 67, 0.15);\n",
              "      fill: #174EA6;\n",
              "    }\n",
              "\n",
              "    [theme=dark] .colab-df-convert {\n",
              "      background-color: #3B4455;\n",
              "      fill: #D2E3FC;\n",
              "    }\n",
              "\n",
              "    [theme=dark] .colab-df-convert:hover {\n",
              "      background-color: #434B5C;\n",
              "      box-shadow: 0px 1px 3px 1px rgba(0, 0, 0, 0.15);\n",
              "      filter: drop-shadow(0px 1px 2px rgba(0, 0, 0, 0.3));\n",
              "      fill: #FFFFFF;\n",
              "    }\n",
              "  </style>\n",
              "\n",
              "      <script>\n",
              "        const buttonEl =\n",
              "          document.querySelector('#df-350bbeac-abaf-43d3-aad8-e68580d1ce79 button.colab-df-convert');\n",
              "        buttonEl.style.display =\n",
              "          google.colab.kernel.accessAllowed ? 'block' : 'none';\n",
              "\n",
              "        async function convertToInteractive(key) {\n",
              "          const element = document.querySelector('#df-350bbeac-abaf-43d3-aad8-e68580d1ce79');\n",
              "          const dataTable =\n",
              "            await google.colab.kernel.invokeFunction('convertToInteractive',\n",
              "                                                     [key], {});\n",
              "          if (!dataTable) return;\n",
              "\n",
              "          const docLinkHtml = 'Like what you see? Visit the ' +\n",
              "            '<a target=\"_blank\" href=https://colab.research.google.com/notebooks/data_table.ipynb>data table notebook</a>'\n",
              "            + ' to learn more about interactive tables.';\n",
              "          element.innerHTML = '';\n",
              "          dataTable['output_type'] = 'display_data';\n",
              "          await google.colab.output.renderOutput(dataTable, element);\n",
              "          const docLink = document.createElement('div');\n",
              "          docLink.innerHTML = docLinkHtml;\n",
              "          element.appendChild(docLink);\n",
              "        }\n",
              "      </script>\n",
              "    </div>\n",
              "  </div>\n",
              "  "
            ]
          },
          "metadata": {},
          "execution_count": 15
        }
      ]
    },
    {
      "cell_type": "code",
      "source": [
        "y.head()"
      ],
      "metadata": {
        "colab": {
          "base_uri": "https://localhost:8080/"
        },
        "id": "bUCY_T-UQEdA",
        "outputId": "c6fddeb8-ef09-472f-f43e-c1e9d5bdd8c0"
      },
      "execution_count": 16,
      "outputs": [
        {
          "output_type": "execute_result",
          "data": {
            "text/plain": [
              "0    1\n",
              "1    1\n",
              "2    1\n",
              "3    1\n",
              "4    1\n",
              "Name: epileptic_, dtype: int64"
            ]
          },
          "metadata": {},
          "execution_count": 16
        }
      ]
    },
    {
      "cell_type": "code",
      "source": [
        "# Split the data: \n",
        "sss = StratifiedShuffleSplit(n_splits=5, random_state=42)\n",
        "\n",
        "def get_avg_score(n):\n",
        "    pipe = [\n",
        "        ('scaler', StandardScaler()),\n",
        "        ('pca', PCA(n_components=n)),\n",
        "        ('estimator', LogisticRegression(solver='liblinear'))\n",
        "    ]\n",
        "    pipe = Pipeline(pipe)\n",
        "    scores = []\n",
        "    for train_index, test_index in sss.split(X, y):\n",
        "        X_train, X_test = X.loc[train_index], X.loc[test_index]\n",
        "        y_train, y_test = y.loc[train_index], y.loc[test_index]\n",
        "        pipe.fit(X_train, y_train)\n",
        "        scores.append(accuracy_score(y_test, pipe.predict(X_test)))\n",
        "    return np.mean(scores)\n",
        "\n",
        "\n",
        "ns = [10, 20, 50, 100, 150, 200, 300, 400]\n",
        "score_list = [get_avg_score(n) for n in ns]"
      ],
      "metadata": {
        "id": "9apbe5YhQEav"
      },
      "execution_count": null,
      "outputs": []
    },
    {
      "cell_type": "code",
      "source": [
        "import seaborn as sns\n",
        "sns.set_context('talk')\n",
        "\n",
        "ax = plt.axes()\n",
        "ax.plot(ns, score_list)\n",
        "ax.set(xlabel='Number of Dimensions',\n",
        "       ylabel='Average Accuracy',\n",
        "       title='LogisticRegression Accuracy vs Number of dimensions on Epilepsy_Detection_Using_EEG_Signals')\n",
        "ax.grid(True)"
      ],
      "metadata": {
        "colab": {
          "base_uri": "https://localhost:8080/",
          "height": 321
        },
        "id": "LRdPS1ZWRBO2",
        "outputId": "2aa6482f-a6c2-44c5-a47f-bb4382205404"
      },
      "execution_count": null,
      "outputs": [
        {
          "output_type": "display_data",
          "data": {
            "text/plain": [
              "<Figure size 432x288 with 1 Axes>"
            ],
            "image/png": "[encoded data removed]"
          },
          "metadata": {
            "needs_background": "light"
          }
        }
      ]
    },
    {
      "cell_type": "code",
      "source": [
        "# Split the data: \n",
        "sss = StratifiedShuffleSplit(n_splits=5, random_state=42)\n",
        "\n",
        "def get_avg_score(n):\n",
        "    pipe = [\n",
        "        ('scaler', StandardScaler()),\n",
        "        ('pca', PCA(n_components=n)),\n",
        "        ('estimator', LogisticRegression(solver='liblinear'))\n",
        "    ]\n",
        "    pipe = Pipeline(pipe)\n",
        "    scores = []\n",
        "    for train_index, test_index in sss.split(X, y):\n",
        "        X_train, X_test = X.loc[train_index], X.loc[test_index]\n",
        "        y_train, y_test = y.loc[train_index], y.loc[test_index]\n",
        "        pipe.fit(X_train, y_train)\n",
        "        scores.append(recall_score(y_test, pipe.predict(X_test)))\n",
        "    return np.mean(scores)\n",
        "\n",
        "\n",
        "ns = [10, 20, 50, 100, 150, 200, 300, 400]\n",
        "score_list = [get_avg_score(n) for n in ns]"
      ],
      "metadata": {
        "id": "IcKDDPnpckf2"
      },
      "execution_count": 21,
      "outputs": []
    },
    {
      "cell_type": "code",
      "source": [
        "import seaborn as sns\n",
        "sns.set_context('talk')\n",
        "\n",
        "ax = plt.axes()\n",
        "ax.plot(ns, score_list, color='red')\n",
        "ax.set(xlabel='Number of Dimensions',\n",
        "       ylabel='Average of Recall Score',\n",
        "       title='LogisticRegression Recall score vs Number of dimensions on Epilepsy_Detection_Using_EEG_Signals')\n",
        "ax.grid(True)"
      ],
      "metadata": {
        "id": "foZwPBr0dG_p",
        "outputId": "613a9436-ea6a-4883-fc50-7bc0946437d4",
        "colab": {
          "base_uri": "https://localhost:8080/",
          "height": 321
        }
      },
      "execution_count": 24,
      "outputs": [
        {
          "output_type": "display_data",
          "data": {
            "text/plain": [
              "<Figure size 432x288 with 1 Axes>"
            ],
            "image/png": "[encoded data removed]"
          },
          "metadata": {
            "needs_background": "light"
          }
        }
      ]
    },
    {
      "cell_type": "markdown",
      "source": [
        "# **Applying Random Forest Classifier:=**"
      ],
      "metadata": {
        "id": "ZaC754CtlX4G"
      }
    },
    {
      "cell_type": "code",
      "source": [
        "sss_rf = StratifiedShuffleSplit(n_splits=5, random_state=42)\n",
        "\n",
        "def get_avg_score_rf(n):\n",
        "    pipe = [\n",
        "        ('scaler', StandardScaler()),\n",
        "        ('pca', PCA(n_components=n)),\n",
        "        ('estimator', RandomForestClassifier(max_depth=70,max_features='auto',min_samples_leaf=4,min_samples_split=10,n_estimators=600))\n",
        "    ]\n",
        "    pipe = Pipeline(pipe)\n",
        "    scores = []\n",
        "    for train_index, test_index in sss_rf.split(X, y):\n",
        "        X_train, X_test = X.loc[train_index], X.loc[test_index]\n",
        "        y_train, y_test = y.loc[train_index], y.loc[test_index]\n",
        "        pipe.fit(X_train, y_train)\n",
        "        scores.append(accuracy_score(y_test, pipe.predict(X_test)))\n",
        "    return np.mean(scores)\n",
        "\n",
        "\n",
        "ns = [10, 20, 50, 100, 150, 200, 300, 400]\n",
        "score_list = [get_avg_score_rf(n) for n in ns]"
      ],
      "metadata": {
        "id": "ov7qahgkR2K1"
      },
      "execution_count": null,
      "outputs": []
    },
    {
      "cell_type": "code",
      "source": [
        "sns.set_context('talk')\n",
        "ax = plt.axes()\n",
        "ax.plot(ns, score_list)\n",
        "ax.set(xlabel='Number of Dimensions',\n",
        "       ylabel='Average Accuracy',\n",
        "       title='RandomForestCalssifier VS Number of Dimensions')\n",
        "ax.grid(True)"
      ],
      "metadata": {
        "colab": {
          "base_uri": "https://localhost:8080/",
          "height": 321
        },
        "id": "KleQiKUbpPEr",
        "outputId": "4e13f67c-7ab0-4ac8-facf-2b11dd23563f"
      },
      "execution_count": null,
      "outputs": [
        {
          "output_type": "display_data",
          "data": {
            "text/plain": [
              "<Figure size 432x288 with 1 Axes>"
            ],
            "image/png": "[encoded data removed]"
          },
          "metadata": {
            "needs_background": "light"
          }
        }
      ]
    },
    {
      "cell_type": "code",
      "source": [
        "sss_rf = StratifiedShuffleSplit(n_splits=5, random_state=42)\n",
        "\n",
        "def get_avg_score_rf(n):\n",
        "    pipe = [\n",
        "        ('scaler', StandardScaler()),\n",
        "        ('pca', PCA(n_components=n)),\n",
        "        ('estimator', RandomForestClassifier(max_depth=70,max_features='auto',min_samples_leaf=4,min_samples_split=10,n_estimators=600))\n",
        "    ]\n",
        "    pipe = Pipeline(pipe)\n",
        "    scores = []\n",
        "    for train_index, test_index in sss_rf.split(X, y):\n",
        "        X_train, X_test = X.loc[train_index], X.loc[test_index]\n",
        "        y_train, y_test = y.loc[train_index], y.loc[test_index]\n",
        "        pipe.fit(X_train, y_train)\n",
        "        scores.append(recall_score(y_test, pipe.predict(X_test)))\n",
        "    return np.mean(scores)\n",
        "\n",
        "\n",
        "ns = [10, 20, 50, 100, 150, 200, 300, 400]\n",
        "score_list = [get_avg_score_rf(n) for n in ns]"
      ],
      "metadata": {
        "id": "5adehYTpfjAC",
        "outputId": "8abc4852-8f8a-431c-e209-72c7d1e439a9",
        "colab": {
          "base_uri": "https://localhost:8080/"
        }
      },
      "execution_count": 25,
      "outputs": [
        {
          "output_type": "stream",
          "name": "stderr",
          "text": [
            "/usr/local/lib/python3.9/dist-packages/sklearn/ensemble/_forest.py:424: FutureWarning: `max_features='auto'` has been deprecated in 1.1 and will be removed in 1.3. To keep the past behaviour, explicitly set `max_features='sqrt'` or remove this parameter as it is also the default value for RandomForestClassifiers and ExtraTreesClassifiers.\n",
            "  warn(\n",
            "/usr/local/lib/python3.9/dist-packages/sklearn/ensemble/_forest.py:424: FutureWarning: `max_features='auto'` has been deprecated in 1.1 and will be removed in 1.3. To keep the past behaviour, explicitly set `max_features='sqrt'` or remove this parameter as it is also the default value for RandomForestClassifiers and ExtraTreesClassifiers.\n",
            "  warn(\n",
            "/usr/local/lib/python3.9/dist-packages/sklearn/ensemble/_forest.py:424: FutureWarning: `max_features='auto'` has been deprecated in 1.1 and will be removed in 1.3. To keep the past behaviour, explicitly set `max_features='sqrt'` or remove this parameter as it is also the default value for RandomForestClassifiers and ExtraTreesClassifiers.\n",
            "  warn(\n",
            "/usr/local/lib/python3.9/dist-packages/sklearn/ensemble/_forest.py:424: FutureWarning: `max_features='auto'` has been deprecated in 1.1 and will be removed in 1.3. To keep the past behaviour, explicitly set `max_features='sqrt'` or remove this parameter as it is also the default value for RandomForestClassifiers and ExtraTreesClassifiers.\n",
            "  warn(\n",
            "/usr/local/lib/python3.9/dist-packages/sklearn/ensemble/_forest.py:424: FutureWarning: `max_features='auto'` has been deprecated in 1.1 and will be removed in 1.3. To keep the past behaviour, explicitly set `max_features='sqrt'` or remove this parameter as it is also the default value for RandomForestClassifiers and ExtraTreesClassifiers.\n",
            "  warn(\n",
            "/usr/local/lib/python3.9/dist-packages/sklearn/ensemble/_forest.py:424: FutureWarning: `max_features='auto'` has been deprecated in 1.1 and will be removed in 1.3. To keep the past behaviour, explicitly set `max_features='sqrt'` or remove this parameter as it is also the default value for RandomForestClassifiers and ExtraTreesClassifiers.\n",
            "  warn(\n",
            "/usr/local/lib/python3.9/dist-packages/sklearn/ensemble/_forest.py:424: FutureWarning: `max_features='auto'` has been deprecated in 1.1 and will be removed in 1.3. To keep the past behaviour, explicitly set `max_features='sqrt'` or remove this parameter as it is also the default value for RandomForestClassifiers and ExtraTreesClassifiers.\n",
            "  warn(\n",
            "/usr/local/lib/python3.9/dist-packages/sklearn/ensemble/_forest.py:424: FutureWarning: `max_features='auto'` has been deprecated in 1.1 and will be removed in 1.3. To keep the past behaviour, explicitly set `max_features='sqrt'` or remove this parameter as it is also the default value for RandomForestClassifiers and ExtraTreesClassifiers.\n",
            "  warn(\n",
            "/usr/local/lib/python3.9/dist-packages/sklearn/ensemble/_forest.py:424: FutureWarning: `max_features='auto'` has been deprecated in 1.1 and will be removed in 1.3. To keep the past behaviour, explicitly set `max_features='sqrt'` or remove this parameter as it is also the default value for RandomForestClassifiers and ExtraTreesClassifiers.\n",
            "  warn(\n",
            "/usr/local/lib/python3.9/dist-packages/sklearn/ensemble/_forest.py:424: FutureWarning: `max_features='auto'` has been deprecated in 1.1 and will be removed in 1.3. To keep the past behaviour, explicitly set `max_features='sqrt'` or remove this parameter as it is also the default value for RandomForestClassifiers and ExtraTreesClassifiers.\n",
            "  warn(\n",
            "/usr/local/lib/python3.9/dist-packages/sklearn/ensemble/_forest.py:424: FutureWarning: `max_features='auto'` has been deprecated in 1.1 and will be removed in 1.3. To keep the past behaviour, explicitly set `max_features='sqrt'` or remove this parameter as it is also the default value for RandomForestClassifiers and ExtraTreesClassifiers.\n",
            "  warn(\n",
            "/usr/local/lib/python3.9/dist-packages/sklearn/ensemble/_forest.py:424: FutureWarning: `max_features='auto'` has been deprecated in 1.1 and will be removed in 1.3. To keep the past behaviour, explicitly set `max_features='sqrt'` or remove this parameter as it is also the default value for RandomForestClassifiers and ExtraTreesClassifiers.\n",
            "  warn(\n",
            "/usr/local/lib/python3.9/dist-packages/sklearn/ensemble/_forest.py:424: FutureWarning: `max_features='auto'` has been deprecated in 1.1 and will be removed in 1.3. To keep the past behaviour, explicitly set `max_features='sqrt'` or remove this parameter as it is also the default value for RandomForestClassifiers and ExtraTreesClassifiers.\n",
            "  warn(\n",
            "/usr/local/lib/python3.9/dist-packages/sklearn/ensemble/_forest.py:424: FutureWarning: `max_features='auto'` has been deprecated in 1.1 and will be removed in 1.3. To keep the past behaviour, explicitly set `max_features='sqrt'` or remove this parameter as it is also the default value for RandomForestClassifiers and ExtraTreesClassifiers.\n",
            "  warn(\n",
            "/usr/local/lib/python3.9/dist-packages/sklearn/ensemble/_forest.py:424: FutureWarning: `max_features='auto'` has been deprecated in 1.1 and will be removed in 1.3. To keep the past behaviour, explicitly set `max_features='sqrt'` or remove this parameter as it is also the default value for RandomForestClassifiers and ExtraTreesClassifiers.\n",
            "  warn(\n",
            "/usr/local/lib/python3.9/dist-packages/sklearn/ensemble/_forest.py:424: FutureWarning: `max_features='auto'` has been deprecated in 1.1 and will be removed in 1.3. To keep the past behaviour, explicitly set `max_features='sqrt'` or remove this parameter as it is also the default value for RandomForestClassifiers and ExtraTreesClassifiers.\n",
            "  warn(\n",
            "/usr/local/lib/python3.9/dist-packages/sklearn/ensemble/_forest.py:424: FutureWarning: `max_features='auto'` has been deprecated in 1.1 and will be removed in 1.3. To keep the past behaviour, explicitly set `max_features='sqrt'` or remove this parameter as it is also the default value for RandomForestClassifiers and ExtraTreesClassifiers.\n",
            "  warn(\n",
            "/usr/local/lib/python3.9/dist-packages/sklearn/ensemble/_forest.py:424: FutureWarning: `max_features='auto'` has been deprecated in 1.1 and will be removed in 1.3. To keep the past behaviour, explicitly set `max_features='sqrt'` or remove this parameter as it is also the default value for RandomForestClassifiers and ExtraTreesClassifiers.\n",
            "  warn(\n",
            "/usr/local/lib/python3.9/dist-packages/sklearn/ensemble/_forest.py:424: FutureWarning: `max_features='auto'` has been deprecated in 1.1 and will be removed in 1.3. To keep the past behaviour, explicitly set `max_features='sqrt'` or remove this parameter as it is also the default value for RandomForestClassifiers and ExtraTreesClassifiers.\n",
            "  warn(\n",
            "/usr/local/lib/python3.9/dist-packages/sklearn/ensemble/_forest.py:424: FutureWarning: `max_features='auto'` has been deprecated in 1.1 and will be removed in 1.3. To keep the past behaviour, explicitly set `max_features='sqrt'` or remove this parameter as it is also the default value for RandomForestClassifiers and ExtraTreesClassifiers.\n",
            "  warn(\n",
            "/usr/local/lib/python3.9/dist-packages/sklearn/ensemble/_forest.py:424: FutureWarning: `max_features='auto'` has been deprecated in 1.1 and will be removed in 1.3. To keep the past behaviour, explicitly set `max_features='sqrt'` or remove this parameter as it is also the default value for RandomForestClassifiers and ExtraTreesClassifiers.\n",
            "  warn(\n",
            "/usr/local/lib/python3.9/dist-packages/sklearn/ensemble/_forest.py:424: FutureWarning: `max_features='auto'` has been deprecated in 1.1 and will be removed in 1.3. To keep the past behaviour, explicitly set `max_features='sqrt'` or remove this parameter as it is also the default value for RandomForestClassifiers and ExtraTreesClassifiers.\n",
            "  warn(\n",
            "/usr/local/lib/python3.9/dist-packages/sklearn/ensemble/_forest.py:424: FutureWarning: `max_features='auto'` has been deprecated in 1.1 and will be removed in 1.3. To keep the past behaviour, explicitly set `max_features='sqrt'` or remove this parameter as it is also the default value for RandomForestClassifiers and ExtraTreesClassifiers.\n",
            "  warn(\n",
            "/usr/local/lib/python3.9/dist-packages/sklearn/ensemble/_forest.py:424: FutureWarning: `max_features='auto'` has been deprecated in 1.1 and will be removed in 1.3. To keep the past behaviour, explicitly set `max_features='sqrt'` or remove this parameter as it is also the default value for RandomForestClassifiers and ExtraTreesClassifiers.\n",
            "  warn(\n",
            "/usr/local/lib/python3.9/dist-packages/sklearn/ensemble/_forest.py:424: FutureWarning: `max_features='auto'` has been deprecated in 1.1 and will be removed in 1.3. To keep the past behaviour, explicitly set `max_features='sqrt'` or remove this parameter as it is also the default value for RandomForestClassifiers and ExtraTreesClassifiers.\n",
            "  warn(\n",
            "/usr/local/lib/python3.9/dist-packages/sklearn/ensemble/_forest.py:424: FutureWarning: `max_features='auto'` has been deprecated in 1.1 and will be removed in 1.3. To keep the past behaviour, explicitly set `max_features='sqrt'` or remove this parameter as it is also the default value for RandomForestClassifiers and ExtraTreesClassifiers.\n",
            "  warn(\n",
            "/usr/local/lib/python3.9/dist-packages/sklearn/ensemble/_forest.py:424: FutureWarning: `max_features='auto'` has been deprecated in 1.1 and will be removed in 1.3. To keep the past behaviour, explicitly set `max_features='sqrt'` or remove this parameter as it is also the default value for RandomForestClassifiers and ExtraTreesClassifiers.\n",
            "  warn(\n",
            "/usr/local/lib/python3.9/dist-packages/sklearn/ensemble/_forest.py:424: FutureWarning: `max_features='auto'` has been deprecated in 1.1 and will be removed in 1.3. To keep the past behaviour, explicitly set `max_features='sqrt'` or remove this parameter as it is also the default value for RandomForestClassifiers and ExtraTreesClassifiers.\n",
            "  warn(\n",
            "/usr/local/lib/python3.9/dist-packages/sklearn/ensemble/_forest.py:424: FutureWarning: `max_features='auto'` has been deprecated in 1.1 and will be removed in 1.3. To keep the past behaviour, explicitly set `max_features='sqrt'` or remove this parameter as it is also the default value for RandomForestClassifiers and ExtraTreesClassifiers.\n",
            "  warn(\n",
            "/usr/local/lib/python3.9/dist-packages/sklearn/ensemble/_forest.py:424: FutureWarning: `max_features='auto'` has been deprecated in 1.1 and will be removed in 1.3. To keep the past behaviour, explicitly set `max_features='sqrt'` or remove this parameter as it is also the default value for RandomForestClassifiers and ExtraTreesClassifiers.\n",
            "  warn(\n",
            "/usr/local/lib/python3.9/dist-packages/sklearn/ensemble/_forest.py:424: FutureWarning: `max_features='auto'` has been deprecated in 1.1 and will be removed in 1.3. To keep the past behaviour, explicitly set `max_features='sqrt'` or remove this parameter as it is also the default value for RandomForestClassifiers and ExtraTreesClassifiers.\n",
            "  warn(\n",
            "/usr/local/lib/python3.9/dist-packages/sklearn/ensemble/_forest.py:424: FutureWarning: `max_features='auto'` has been deprecated in 1.1 and will be removed in 1.3. To keep the past behaviour, explicitly set `max_features='sqrt'` or remove this parameter as it is also the default value for RandomForestClassifiers and ExtraTreesClassifiers.\n",
            "  warn(\n",
            "/usr/local/lib/python3.9/dist-packages/sklearn/ensemble/_forest.py:424: FutureWarning: `max_features='auto'` has been deprecated in 1.1 and will be removed in 1.3. To keep the past behaviour, explicitly set `max_features='sqrt'` or remove this parameter as it is also the default value for RandomForestClassifiers and ExtraTreesClassifiers.\n",
            "  warn(\n",
            "/usr/local/lib/python3.9/dist-packages/sklearn/ensemble/_forest.py:424: FutureWarning: `max_features='auto'` has been deprecated in 1.1 and will be removed in 1.3. To keep the past behaviour, explicitly set `max_features='sqrt'` or remove this parameter as it is also the default value for RandomForestClassifiers and ExtraTreesClassifiers.\n",
            "  warn(\n",
            "/usr/local/lib/python3.9/dist-packages/sklearn/ensemble/_forest.py:424: FutureWarning: `max_features='auto'` has been deprecated in 1.1 and will be removed in 1.3. To keep the past behaviour, explicitly set `max_features='sqrt'` or remove this parameter as it is also the default value for RandomForestClassifiers and ExtraTreesClassifiers.\n",
            "  warn(\n",
            "/usr/local/lib/python3.9/dist-packages/sklearn/ensemble/_forest.py:424: FutureWarning: `max_features='auto'` has been deprecated in 1.1 and will be removed in 1.3. To keep the past behaviour, explicitly set `max_features='sqrt'` or remove this parameter as it is also the default value for RandomForestClassifiers and ExtraTreesClassifiers.\n",
            "  warn(\n",
            "/usr/local/lib/python3.9/dist-packages/sklearn/ensemble/_forest.py:424: FutureWarning: `max_features='auto'` has been deprecated in 1.1 and will be removed in 1.3. To keep the past behaviour, explicitly set `max_features='sqrt'` or remove this parameter as it is also the default value for RandomForestClassifiers and ExtraTreesClassifiers.\n",
            "  warn(\n",
            "/usr/local/lib/python3.9/dist-packages/sklearn/ensemble/_forest.py:424: FutureWarning: `max_features='auto'` has been deprecated in 1.1 and will be removed in 1.3. To keep the past behaviour, explicitly set `max_features='sqrt'` or remove this parameter as it is also the default value for RandomForestClassifiers and ExtraTreesClassifiers.\n",
            "  warn(\n",
            "/usr/local/lib/python3.9/dist-packages/sklearn/ensemble/_forest.py:424: FutureWarning: `max_features='auto'` has been deprecated in 1.1 and will be removed in 1.3. To keep the past behaviour, explicitly set `max_features='sqrt'` or remove this parameter as it is also the default value for RandomForestClassifiers and ExtraTreesClassifiers.\n",
            "  warn(\n",
            "/usr/local/lib/python3.9/dist-packages/sklearn/ensemble/_forest.py:424: FutureWarning: `max_features='auto'` has been deprecated in 1.1 and will be removed in 1.3. To keep the past behaviour, explicitly set `max_features='sqrt'` or remove this parameter as it is also the default value for RandomForestClassifiers and ExtraTreesClassifiers.\n",
            "  warn(\n"
          ]
        }
      ]
    },
    {
      "cell_type": "code",
      "source": [
        "sns.set_context('talk')\n",
        "ax = plt.axes()\n",
        "ax.plot(ns, score_list, color='red')\n",
        "ax.set(xlabel='Number of Dimensions',\n",
        "       ylabel='Average Recall Score',\n",
        "       title='RandomForestCalssifier model Recall score VS Number of Dimensions')\n",
        "ax.grid(True)"
      ],
      "metadata": {
        "id": "0u0cjDsehfNA",
        "outputId": "bf04f5c3-9ef6-4acf-9581-3021e5c3c6f3",
        "colab": {
          "base_uri": "https://localhost:8080/",
          "height": 321
        }
      },
      "execution_count": 26,
      "outputs": [
        {
          "output_type": "display_data",
          "data": {
            "text/plain": [
              "<Figure size 432x288 with 1 Axes>"
            ],
            "image/png": "[encoded data removed]"
          },
          "metadata": {
            "needs_background": "light"
          }
        }
      ]
    },
    {
      "cell_type": "markdown",
      "source": [
        "# **Applying XGboost Classifier:=**"
      ],
      "metadata": {
        "id": "6HK2tjA6s5dl"
      }
    },
    {
      "cell_type": "code",
      "source": [
        "sss_xb = StratifiedShuffleSplit(n_splits=5, random_state=42)\n",
        "\n",
        "def get_avg_score_xb(n):\n",
        "    pipe = [\n",
        "        ('scaler', StandardScaler()),\n",
        "        ('pca', PCA(n_components=n)),\n",
        "        ('estimator', XGBClassifier(learning_rate=0.1, max_depth=10,n_estimators=7,random_state=5441))\n",
        "    ]\n",
        "    pipe = Pipeline(pipe)\n",
        "    scores = []\n",
        "    for train_index, test_index in sss_xb.split(X, y):\n",
        "        X_train, X_test = X.loc[train_index], X.loc[test_index]\n",
        "        y_train, y_test = y.loc[train_index], y.loc[test_index]\n",
        "        pipe.fit(X_train, y_train)\n",
        "        scores.append(accuracy_score(y_test, pipe.predict(X_test)))\n",
        "    return np.mean(scores)\n",
        "\n",
        "\n",
        "ns = [10, 20, 50, 100, 150, 200, 300, 400]\n",
        "score_list = [get_avg_score_rf(n) for n in ns]"
      ],
      "metadata": {
        "id": "iPHVNJ-Qs4lm"
      },
      "execution_count": null,
      "outputs": []
    },
    {
      "cell_type": "code",
      "source": [
        "sns.set_context('talk')\n",
        "ax = plt.axes()\n",
        "ax.plot(ns, score_list)\n",
        "ax.set(xlabel='Number of Dimensions',\n",
        "       ylabel='Average Accuracy',\n",
        "       title='XgboostClassifer VS Number of Dimensions')\n",
        "ax.grid(True)"
      ],
      "metadata": {
        "outputId": "fa26f362-def9-428e-9095-a8cd33b1f487",
        "colab": {
          "base_uri": "https://localhost:8080/",
          "height": 321
        },
        "id": "SgkNvla8vNrP"
      },
      "execution_count": null,
      "outputs": [
        {
          "output_type": "display_data",
          "data": {
            "text/plain": [
              "<Figure size 432x288 with 1 Axes>"
            ],
            "image/png": "[encoded data removed]"
          },
          "metadata": {
            "needs_background": "light"
          }
        }
      ]
    },
    {
      "cell_type": "code",
      "source": [
        "sss_xb = StratifiedShuffleSplit(n_splits=5, random_state=42)\n",
        "\n",
        "def get_avg_score_xb(n):\n",
        "    pipe = [\n",
        "        ('scaler', StandardScaler()),\n",
        "        ('pca', PCA(n_components=n)),\n",
        "        ('estimator', XGBClassifier(learning_rate=0.1, max_depth=10,n_estimators=7,random_state=5441))\n",
        "    ]\n",
        "    pipe = Pipeline(pipe)\n",
        "    scores = []\n",
        "    for train_index, test_index in sss_xb.split(X, y):\n",
        "        X_train, X_test = X.loc[train_index], X.loc[test_index]\n",
        "        y_train, y_test = y.loc[train_index], y.loc[test_index]\n",
        "        pipe.fit(X_train, y_train)\n",
        "        scores.append(recall_score(y_test, pipe.predict(X_test)))\n",
        "    return np.mean(scores)\n",
        "\n",
        "\n",
        "ns = [10, 20, 50, 100, 150, 200, 300, 400]\n",
        "score_list = [get_avg_score_rf(n) for n in ns]"
      ],
      "metadata": {
        "id": "62iMsvnyhyZb",
        "outputId": "c1099bc8-28f3-46a8-9133-c32b4844e09a",
        "colab": {
          "base_uri": "https://localhost:8080/"
        }
      },
      "execution_count": 27,
      "outputs": [
        {
          "output_type": "stream",
          "name": "stderr",
          "text": [
            "/usr/local/lib/python3.9/dist-packages/sklearn/ensemble/_forest.py:424: FutureWarning: `max_features='auto'` has been deprecated in 1.1 and will be removed in 1.3. To keep the past behaviour, explicitly set `max_features='sqrt'` or remove this parameter as it is also the default value for RandomForestClassifiers and ExtraTreesClassifiers.\n",
            "  warn(\n",
            "/usr/local/lib/python3.9/dist-packages/sklearn/ensemble/_forest.py:424: FutureWarning: `max_features='auto'` has been deprecated in 1.1 and will be removed in 1.3. To keep the past behaviour, explicitly set `max_features='sqrt'` or remove this parameter as it is also the default value for RandomForestClassifiers and ExtraTreesClassifiers.\n",
            "  warn(\n",
            "/usr/local/lib/python3.9/dist-packages/sklearn/ensemble/_forest.py:424: FutureWarning: `max_features='auto'` has been deprecated in 1.1 and will be removed in 1.3. To keep the past behaviour, explicitly set `max_features='sqrt'` or remove this parameter as it is also the default value for RandomForestClassifiers and ExtraTreesClassifiers.\n",
            "  warn(\n",
            "/usr/local/lib/python3.9/dist-packages/sklearn/ensemble/_forest.py:424: FutureWarning: `max_features='auto'` has been deprecated in 1.1 and will be removed in 1.3. To keep the past behaviour, explicitly set `max_features='sqrt'` or remove this parameter as it is also the default value for RandomForestClassifiers and ExtraTreesClassifiers.\n",
            "  warn(\n",
            "/usr/local/lib/python3.9/dist-packages/sklearn/ensemble/_forest.py:424: FutureWarning: `max_features='auto'` has been deprecated in 1.1 and will be removed in 1.3. To keep the past behaviour, explicitly set `max_features='sqrt'` or remove this parameter as it is also the default value for RandomForestClassifiers and ExtraTreesClassifiers.\n",
            "  warn(\n",
            "/usr/local/lib/python3.9/dist-packages/sklearn/ensemble/_forest.py:424: FutureWarning: `max_features='auto'` has been deprecated in 1.1 and will be removed in 1.3. To keep the past behaviour, explicitly set `max_features='sqrt'` or remove this parameter as it is also the default value for RandomForestClassifiers and ExtraTreesClassifiers.\n",
            "  warn(\n",
            "/usr/local/lib/python3.9/dist-packages/sklearn/ensemble/_forest.py:424: FutureWarning: `max_features='auto'` has been deprecated in 1.1 and will be removed in 1.3. To keep the past behaviour, explicitly set `max_features='sqrt'` or remove this parameter as it is also the default value for RandomForestClassifiers and ExtraTreesClassifiers.\n",
            "  warn(\n",
            "/usr/local/lib/python3.9/dist-packages/sklearn/ensemble/_forest.py:424: FutureWarning: `max_features='auto'` has been deprecated in 1.1 and will be removed in 1.3. To keep the past behaviour, explicitly set `max_features='sqrt'` or remove this parameter as it is also the default value for RandomForestClassifiers and ExtraTreesClassifiers.\n",
            "  warn(\n",
            "/usr/local/lib/python3.9/dist-packages/sklearn/ensemble/_forest.py:424: FutureWarning: `max_features='auto'` has been deprecated in 1.1 and will be removed in 1.3. To keep the past behaviour, explicitly set `max_features='sqrt'` or remove this parameter as it is also the default value for RandomForestClassifiers and ExtraTreesClassifiers.\n",
            "  warn(\n",
            "/usr/local/lib/python3.9/dist-packages/sklearn/ensemble/_forest.py:424: FutureWarning: `max_features='auto'` has been deprecated in 1.1 and will be removed in 1.3. To keep the past behaviour, explicitly set `max_features='sqrt'` or remove this parameter as it is also the default value for RandomForestClassifiers and ExtraTreesClassifiers.\n",
            "  warn(\n",
            "/usr/local/lib/python3.9/dist-packages/sklearn/ensemble/_forest.py:424: FutureWarning: `max_features='auto'` has been deprecated in 1.1 and will be removed in 1.3. To keep the past behaviour, explicitly set `max_features='sqrt'` or remove this parameter as it is also the default value for RandomForestClassifiers and ExtraTreesClassifiers.\n",
            "  warn(\n",
            "/usr/local/lib/python3.9/dist-packages/sklearn/ensemble/_forest.py:424: FutureWarning: `max_features='auto'` has been deprecated in 1.1 and will be removed in 1.3. To keep the past behaviour, explicitly set `max_features='sqrt'` or remove this parameter as it is also the default value for RandomForestClassifiers and ExtraTreesClassifiers.\n",
            "  warn(\n",
            "/usr/local/lib/python3.9/dist-packages/sklearn/ensemble/_forest.py:424: FutureWarning: `max_features='auto'` has been deprecated in 1.1 and will be removed in 1.3. To keep the past behaviour, explicitly set `max_features='sqrt'` or remove this parameter as it is also the default value for RandomForestClassifiers and ExtraTreesClassifiers.\n",
            "  warn(\n",
            "/usr/local/lib/python3.9/dist-packages/sklearn/ensemble/_forest.py:424: FutureWarning: `max_features='auto'` has been deprecated in 1.1 and will be removed in 1.3. To keep the past behaviour, explicitly set `max_features='sqrt'` or remove this parameter as it is also the default value for RandomForestClassifiers and ExtraTreesClassifiers.\n",
            "  warn(\n",
            "/usr/local/lib/python3.9/dist-packages/sklearn/ensemble/_forest.py:424: FutureWarning: `max_features='auto'` has been deprecated in 1.1 and will be removed in 1.3. To keep the past behaviour, explicitly set `max_features='sqrt'` or remove this parameter as it is also the default value for RandomForestClassifiers and ExtraTreesClassifiers.\n",
            "  warn(\n",
            "/usr/local/lib/python3.9/dist-packages/sklearn/ensemble/_forest.py:424: FutureWarning: `max_features='auto'` has been deprecated in 1.1 and will be removed in 1.3. To keep the past behaviour, explicitly set `max_features='sqrt'` or remove this parameter as it is also the default value for RandomForestClassifiers and ExtraTreesClassifiers.\n",
            "  warn(\n",
            "/usr/local/lib/python3.9/dist-packages/sklearn/ensemble/_forest.py:424: FutureWarning: `max_features='auto'` has been deprecated in 1.1 and will be removed in 1.3. To keep the past behaviour, explicitly set `max_features='sqrt'` or remove this parameter as it is also the default value for RandomForestClassifiers and ExtraTreesClassifiers.\n",
            "  warn(\n",
            "/usr/local/lib/python3.9/dist-packages/sklearn/ensemble/_forest.py:424: FutureWarning: `max_features='auto'` has been deprecated in 1.1 and will be removed in 1.3. To keep the past behaviour, explicitly set `max_features='sqrt'` or remove this parameter as it is also the default value for RandomForestClassifiers and ExtraTreesClassifiers.\n",
            "  warn(\n",
            "/usr/local/lib/python3.9/dist-packages/sklearn/ensemble/_forest.py:424: FutureWarning: `max_features='auto'` has been deprecated in 1.1 and will be removed in 1.3. To keep the past behaviour, explicitly set `max_features='sqrt'` or remove this parameter as it is also the default value for RandomForestClassifiers and ExtraTreesClassifiers.\n",
            "  warn(\n",
            "/usr/local/lib/python3.9/dist-packages/sklearn/ensemble/_forest.py:424: FutureWarning: `max_features='auto'` has been deprecated in 1.1 and will be removed in 1.3. To keep the past behaviour, explicitly set `max_features='sqrt'` or remove this parameter as it is also the default value for RandomForestClassifiers and ExtraTreesClassifiers.\n",
            "  warn(\n",
            "/usr/local/lib/python3.9/dist-packages/sklearn/ensemble/_forest.py:424: FutureWarning: `max_features='auto'` has been deprecated in 1.1 and will be removed in 1.3. To keep the past behaviour, explicitly set `max_features='sqrt'` or remove this parameter as it is also the default value for RandomForestClassifiers and ExtraTreesClassifiers.\n",
            "  warn(\n",
            "/usr/local/lib/python3.9/dist-packages/sklearn/ensemble/_forest.py:424: FutureWarning: `max_features='auto'` has been deprecated in 1.1 and will be removed in 1.3. To keep the past behaviour, explicitly set `max_features='sqrt'` or remove this parameter as it is also the default value for RandomForestClassifiers and ExtraTreesClassifiers.\n",
            "  warn(\n",
            "/usr/local/lib/python3.9/dist-packages/sklearn/ensemble/_forest.py:424: FutureWarning: `max_features='auto'` has been deprecated in 1.1 and will be removed in 1.3. To keep the past behaviour, explicitly set `max_features='sqrt'` or remove this parameter as it is also the default value for RandomForestClassifiers and ExtraTreesClassifiers.\n",
            "  warn(\n",
            "/usr/local/lib/python3.9/dist-packages/sklearn/ensemble/_forest.py:424: FutureWarning: `max_features='auto'` has been deprecated in 1.1 and will be removed in 1.3. To keep the past behaviour, explicitly set `max_features='sqrt'` or remove this parameter as it is also the default value for RandomForestClassifiers and ExtraTreesClassifiers.\n",
            "  warn(\n",
            "/usr/local/lib/python3.9/dist-packages/sklearn/ensemble/_forest.py:424: FutureWarning: `max_features='auto'` has been deprecated in 1.1 and will be removed in 1.3. To keep the past behaviour, explicitly set `max_features='sqrt'` or remove this parameter as it is also the default value for RandomForestClassifiers and ExtraTreesClassifiers.\n",
            "  warn(\n",
            "/usr/local/lib/python3.9/dist-packages/sklearn/ensemble/_forest.py:424: FutureWarning: `max_features='auto'` has been deprecated in 1.1 and will be removed in 1.3. To keep the past behaviour, explicitly set `max_features='sqrt'` or remove this parameter as it is also the default value for RandomForestClassifiers and ExtraTreesClassifiers.\n",
            "  warn(\n",
            "/usr/local/lib/python3.9/dist-packages/sklearn/ensemble/_forest.py:424: FutureWarning: `max_features='auto'` has been deprecated in 1.1 and will be removed in 1.3. To keep the past behaviour, explicitly set `max_features='sqrt'` or remove this parameter as it is also the default value for RandomForestClassifiers and ExtraTreesClassifiers.\n",
            "  warn(\n",
            "/usr/local/lib/python3.9/dist-packages/sklearn/ensemble/_forest.py:424: FutureWarning: `max_features='auto'` has been deprecated in 1.1 and will be removed in 1.3. To keep the past behaviour, explicitly set `max_features='sqrt'` or remove this parameter as it is also the default value for RandomForestClassifiers and ExtraTreesClassifiers.\n",
            "  warn(\n",
            "/usr/local/lib/python3.9/dist-packages/sklearn/ensemble/_forest.py:424: FutureWarning: `max_features='auto'` has been deprecated in 1.1 and will be removed in 1.3. To keep the past behaviour, explicitly set `max_features='sqrt'` or remove this parameter as it is also the default value for RandomForestClassifiers and ExtraTreesClassifiers.\n",
            "  warn(\n",
            "/usr/local/lib/python3.9/dist-packages/sklearn/ensemble/_forest.py:424: FutureWarning: `max_features='auto'` has been deprecated in 1.1 and will be removed in 1.3. To keep the past behaviour, explicitly set `max_features='sqrt'` or remove this parameter as it is also the default value for RandomForestClassifiers and ExtraTreesClassifiers.\n",
            "  warn(\n",
            "/usr/local/lib/python3.9/dist-packages/sklearn/ensemble/_forest.py:424: FutureWarning: `max_features='auto'` has been deprecated in 1.1 and will be removed in 1.3. To keep the past behaviour, explicitly set `max_features='sqrt'` or remove this parameter as it is also the default value for RandomForestClassifiers and ExtraTreesClassifiers.\n",
            "  warn(\n",
            "/usr/local/lib/python3.9/dist-packages/sklearn/ensemble/_forest.py:424: FutureWarning: `max_features='auto'` has been deprecated in 1.1 and will be removed in 1.3. To keep the past behaviour, explicitly set `max_features='sqrt'` or remove this parameter as it is also the default value for RandomForestClassifiers and ExtraTreesClassifiers.\n",
            "  warn(\n",
            "/usr/local/lib/python3.9/dist-packages/sklearn/ensemble/_forest.py:424: FutureWarning: `max_features='auto'` has been deprecated in 1.1 and will be removed in 1.3. To keep the past behaviour, explicitly set `max_features='sqrt'` or remove this parameter as it is also the default value for RandomForestClassifiers and ExtraTreesClassifiers.\n",
            "  warn(\n",
            "/usr/local/lib/python3.9/dist-packages/sklearn/ensemble/_forest.py:424: FutureWarning: `max_features='auto'` has been deprecated in 1.1 and will be removed in 1.3. To keep the past behaviour, explicitly set `max_features='sqrt'` or remove this parameter as it is also the default value for RandomForestClassifiers and ExtraTreesClassifiers.\n",
            "  warn(\n",
            "/usr/local/lib/python3.9/dist-packages/sklearn/ensemble/_forest.py:424: FutureWarning: `max_features='auto'` has been deprecated in 1.1 and will be removed in 1.3. To keep the past behaviour, explicitly set `max_features='sqrt'` or remove this parameter as it is also the default value for RandomForestClassifiers and ExtraTreesClassifiers.\n",
            "  warn(\n",
            "/usr/local/lib/python3.9/dist-packages/sklearn/ensemble/_forest.py:424: FutureWarning: `max_features='auto'` has been deprecated in 1.1 and will be removed in 1.3. To keep the past behaviour, explicitly set `max_features='sqrt'` or remove this parameter as it is also the default value for RandomForestClassifiers and ExtraTreesClassifiers.\n",
            "  warn(\n",
            "/usr/local/lib/python3.9/dist-packages/sklearn/ensemble/_forest.py:424: FutureWarning: `max_features='auto'` has been deprecated in 1.1 and will be removed in 1.3. To keep the past behaviour, explicitly set `max_features='sqrt'` or remove this parameter as it is also the default value for RandomForestClassifiers and ExtraTreesClassifiers.\n",
            "  warn(\n",
            "/usr/local/lib/python3.9/dist-packages/sklearn/ensemble/_forest.py:424: FutureWarning: `max_features='auto'` has been deprecated in 1.1 and will be removed in 1.3. To keep the past behaviour, explicitly set `max_features='sqrt'` or remove this parameter as it is also the default value for RandomForestClassifiers and ExtraTreesClassifiers.\n",
            "  warn(\n",
            "/usr/local/lib/python3.9/dist-packages/sklearn/ensemble/_forest.py:424: FutureWarning: `max_features='auto'` has been deprecated in 1.1 and will be removed in 1.3. To keep the past behaviour, explicitly set `max_features='sqrt'` or remove this parameter as it is also the default value for RandomForestClassifiers and ExtraTreesClassifiers.\n",
            "  warn(\n",
            "/usr/local/lib/python3.9/dist-packages/sklearn/ensemble/_forest.py:424: FutureWarning: `max_features='auto'` has been deprecated in 1.1 and will be removed in 1.3. To keep the past behaviour, explicitly set `max_features='sqrt'` or remove this parameter as it is also the default value for RandomForestClassifiers and ExtraTreesClassifiers.\n",
            "  warn(\n"
          ]
        }
      ]
    },
    {
      "cell_type": "code",
      "source": [
        "sns.set_context('talk')\n",
        "ax = plt.axes()\n",
        "ax.plot(ns, score_list, color='red')\n",
        "ax.set(xlabel='Number of Dimensions',\n",
        "       ylabel='Average Recall Score',\n",
        "       title='XgboostClassifer model Recall score VS Number of Dimensions')\n",
        "ax.grid(True)"
      ],
      "metadata": {
        "id": "tcc4YxumvYUL",
        "outputId": "a17cb4dc-3a73-4654-9583-dbd7e754098e",
        "colab": {
          "base_uri": "https://localhost:8080/",
          "height": 321
        }
      },
      "execution_count": 28,
      "outputs": [
        {
          "output_type": "display_data",
          "data": {
            "text/plain": [
              "<Figure size 432x288 with 1 Axes>"
            ],
            "image/png": "[encoded data removed]"
          },
          "metadata": {
            "needs_background": "light"
          }
        }
      ]
    }
  ]
}